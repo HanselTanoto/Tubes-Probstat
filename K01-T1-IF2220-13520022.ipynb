{
 "cells": [
  {
   "cell_type": "markdown",
   "metadata": {},
   "source": [
    "# Tugas Besar IF2220 Probabilitas dan Statistika\n",
    "### Penarikan Kesimpulan dan Pengujian Hipotesis\n",
    "Anggota:\n",
    "1. Primanda Adyatma Hafiz - 13520022\n",
    "2. Hansel Valentino Tanoto - 13520046\n"
   ]
  },
  {
   "cell_type": "code",
   "execution_count": 41,
   "metadata": {},
   "outputs": [],
   "source": [
    "# module\n",
    "import pandas as pd\n",
    "import matplotlib.pyplot as plt\n",
    "import numpy as np\n",
    "import scipy\n",
    "import scipy.stats as st\n",
    "import seaborn as sns\n",
    "import math"
   ]
  },
  {
   "cell_type": "markdown",
   "metadata": {},
   "source": [
    "## Read File"
   ]
  },
  {
   "cell_type": "code",
   "execution_count": 42,
   "metadata": {},
   "outputs": [
    {
     "data": {
      "text/html": [
       "<div>\n",
       "<style scoped>\n",
       "    .dataframe tbody tr th:only-of-type {\n",
       "        vertical-align: middle;\n",
       "    }\n",
       "\n",
       "    .dataframe tbody tr th {\n",
       "        vertical-align: top;\n",
       "    }\n",
       "\n",
       "    .dataframe thead th {\n",
       "        text-align: right;\n",
       "    }\n",
       "</style>\n",
       "<table border=\"1\" class=\"dataframe\">\n",
       "  <thead>\n",
       "    <tr style=\"text-align: right;\">\n",
       "      <th></th>\n",
       "      <th>pH</th>\n",
       "      <th>Hardness</th>\n",
       "      <th>Solids</th>\n",
       "      <th>Chloramines</th>\n",
       "      <th>Sulfate</th>\n",
       "      <th>Conductivity</th>\n",
       "      <th>OrganicCarbon</th>\n",
       "      <th>Trihalomethanes</th>\n",
       "      <th>Turbidity</th>\n",
       "      <th>Potability</th>\n",
       "    </tr>\n",
       "    <tr>\n",
       "      <th>id</th>\n",
       "      <th></th>\n",
       "      <th></th>\n",
       "      <th></th>\n",
       "      <th></th>\n",
       "      <th></th>\n",
       "      <th></th>\n",
       "      <th></th>\n",
       "      <th></th>\n",
       "      <th></th>\n",
       "      <th></th>\n",
       "    </tr>\n",
       "  </thead>\n",
       "  <tbody>\n",
       "    <tr>\n",
       "      <th>1</th>\n",
       "      <td>8.316766</td>\n",
       "      <td>214.373394</td>\n",
       "      <td>22018.417441</td>\n",
       "      <td>8.059332</td>\n",
       "      <td>356.886136</td>\n",
       "      <td>363.266516</td>\n",
       "      <td>18.436524</td>\n",
       "      <td>100.341674</td>\n",
       "      <td>4.628771</td>\n",
       "      <td>0</td>\n",
       "    </tr>\n",
       "    <tr>\n",
       "      <th>2</th>\n",
       "      <td>9.092223</td>\n",
       "      <td>181.101509</td>\n",
       "      <td>17978.986339</td>\n",
       "      <td>6.546600</td>\n",
       "      <td>310.135738</td>\n",
       "      <td>398.410813</td>\n",
       "      <td>11.558279</td>\n",
       "      <td>31.997993</td>\n",
       "      <td>4.075075</td>\n",
       "      <td>0</td>\n",
       "    </tr>\n",
       "    <tr>\n",
       "      <th>3</th>\n",
       "      <td>5.584087</td>\n",
       "      <td>188.313324</td>\n",
       "      <td>28748.687739</td>\n",
       "      <td>7.544869</td>\n",
       "      <td>326.678363</td>\n",
       "      <td>280.467916</td>\n",
       "      <td>8.399735</td>\n",
       "      <td>54.917862</td>\n",
       "      <td>2.559708</td>\n",
       "      <td>0</td>\n",
       "    </tr>\n",
       "    <tr>\n",
       "      <th>4</th>\n",
       "      <td>10.223862</td>\n",
       "      <td>248.071735</td>\n",
       "      <td>28749.716544</td>\n",
       "      <td>7.513408</td>\n",
       "      <td>393.663396</td>\n",
       "      <td>283.651634</td>\n",
       "      <td>13.789695</td>\n",
       "      <td>84.603556</td>\n",
       "      <td>2.672989</td>\n",
       "      <td>0</td>\n",
       "    </tr>\n",
       "    <tr>\n",
       "      <th>5</th>\n",
       "      <td>8.635849</td>\n",
       "      <td>203.361523</td>\n",
       "      <td>13672.091764</td>\n",
       "      <td>4.563009</td>\n",
       "      <td>303.309771</td>\n",
       "      <td>474.607645</td>\n",
       "      <td>12.363817</td>\n",
       "      <td>62.798309</td>\n",
       "      <td>4.401425</td>\n",
       "      <td>0</td>\n",
       "    </tr>\n",
       "    <tr>\n",
       "      <th>...</th>\n",
       "      <td>...</td>\n",
       "      <td>...</td>\n",
       "      <td>...</td>\n",
       "      <td>...</td>\n",
       "      <td>...</td>\n",
       "      <td>...</td>\n",
       "      <td>...</td>\n",
       "      <td>...</td>\n",
       "      <td>...</td>\n",
       "      <td>...</td>\n",
       "    </tr>\n",
       "    <tr>\n",
       "      <th>2006</th>\n",
       "      <td>8.197353</td>\n",
       "      <td>203.105091</td>\n",
       "      <td>27701.794055</td>\n",
       "      <td>6.472914</td>\n",
       "      <td>328.886838</td>\n",
       "      <td>444.612724</td>\n",
       "      <td>14.250875</td>\n",
       "      <td>62.906205</td>\n",
       "      <td>3.361833</td>\n",
       "      <td>1</td>\n",
       "    </tr>\n",
       "    <tr>\n",
       "      <th>2007</th>\n",
       "      <td>8.989900</td>\n",
       "      <td>215.047358</td>\n",
       "      <td>15921.412018</td>\n",
       "      <td>6.297312</td>\n",
       "      <td>312.931022</td>\n",
       "      <td>390.410231</td>\n",
       "      <td>9.899115</td>\n",
       "      <td>55.069304</td>\n",
       "      <td>4.613843</td>\n",
       "      <td>1</td>\n",
       "    </tr>\n",
       "    <tr>\n",
       "      <th>2008</th>\n",
       "      <td>6.702547</td>\n",
       "      <td>207.321086</td>\n",
       "      <td>17246.920347</td>\n",
       "      <td>7.708117</td>\n",
       "      <td>304.510230</td>\n",
       "      <td>329.266002</td>\n",
       "      <td>16.217303</td>\n",
       "      <td>28.878601</td>\n",
       "      <td>3.442983</td>\n",
       "      <td>1</td>\n",
       "    </tr>\n",
       "    <tr>\n",
       "      <th>2009</th>\n",
       "      <td>11.491011</td>\n",
       "      <td>94.812545</td>\n",
       "      <td>37188.826022</td>\n",
       "      <td>9.263166</td>\n",
       "      <td>258.930600</td>\n",
       "      <td>439.893618</td>\n",
       "      <td>16.172755</td>\n",
       "      <td>41.558501</td>\n",
       "      <td>4.369264</td>\n",
       "      <td>1</td>\n",
       "    </tr>\n",
       "    <tr>\n",
       "      <th>2010</th>\n",
       "      <td>6.069616</td>\n",
       "      <td>186.659040</td>\n",
       "      <td>26138.780191</td>\n",
       "      <td>7.747547</td>\n",
       "      <td>345.700257</td>\n",
       "      <td>415.886955</td>\n",
       "      <td>12.067620</td>\n",
       "      <td>60.419921</td>\n",
       "      <td>3.669712</td>\n",
       "      <td>1</td>\n",
       "    </tr>\n",
       "  </tbody>\n",
       "</table>\n",
       "<p>2010 rows × 10 columns</p>\n",
       "</div>"
      ],
      "text/plain": [
       "             pH    Hardness        Solids  Chloramines     Sulfate  \\\n",
       "id                                                                   \n",
       "1      8.316766  214.373394  22018.417441     8.059332  356.886136   \n",
       "2      9.092223  181.101509  17978.986339     6.546600  310.135738   \n",
       "3      5.584087  188.313324  28748.687739     7.544869  326.678363   \n",
       "4     10.223862  248.071735  28749.716544     7.513408  393.663396   \n",
       "5      8.635849  203.361523  13672.091764     4.563009  303.309771   \n",
       "...         ...         ...           ...          ...         ...   \n",
       "2006   8.197353  203.105091  27701.794055     6.472914  328.886838   \n",
       "2007   8.989900  215.047358  15921.412018     6.297312  312.931022   \n",
       "2008   6.702547  207.321086  17246.920347     7.708117  304.510230   \n",
       "2009  11.491011   94.812545  37188.826022     9.263166  258.930600   \n",
       "2010   6.069616  186.659040  26138.780191     7.747547  345.700257   \n",
       "\n",
       "      Conductivity  OrganicCarbon  Trihalomethanes  Turbidity  Potability  \n",
       "id                                                                         \n",
       "1       363.266516      18.436524       100.341674   4.628771           0  \n",
       "2       398.410813      11.558279        31.997993   4.075075           0  \n",
       "3       280.467916       8.399735        54.917862   2.559708           0  \n",
       "4       283.651634      13.789695        84.603556   2.672989           0  \n",
       "5       474.607645      12.363817        62.798309   4.401425           0  \n",
       "...            ...            ...              ...        ...         ...  \n",
       "2006    444.612724      14.250875        62.906205   3.361833           1  \n",
       "2007    390.410231       9.899115        55.069304   4.613843           1  \n",
       "2008    329.266002      16.217303        28.878601   3.442983           1  \n",
       "2009    439.893618      16.172755        41.558501   4.369264           1  \n",
       "2010    415.886955      12.067620        60.419921   3.669712           1  \n",
       "\n",
       "[2010 rows x 10 columns]"
      ]
     },
     "execution_count": 42,
     "metadata": {},
     "output_type": "execute_result"
    }
   ],
   "source": [
    "# set kolom \n",
    "columns_name = ['pH', 'Hardness', 'Solids', 'Chloramines', 'Sulfate', 'Conductivity', 'OrganicCarbon', 'Trihalomethanes', 'Turbidity', 'Potability']\n",
    "\n",
    "# read file\n",
    "water_potability = pd.read_csv('water_potability.csv', header=None, names=columns_name)\n",
    "water_potability.index.name = 'id'\n",
    "\n",
    "# display data\n",
    "water_potability"
   ]
  },
  {
   "cell_type": "markdown",
   "metadata": {},
   "source": [
    "## Info Atribut"
   ]
  },
  {
   "cell_type": "code",
   "execution_count": 3,
   "metadata": {},
   "outputs": [
    {
     "name": "stdout",
     "output_type": "stream",
     "text": [
      "<class 'pandas.core.frame.DataFrame'>\n",
      "Int64Index: 2010 entries, 1 to 2010\n",
      "Data columns (total 10 columns):\n",
      " #   Column           Non-Null Count  Dtype  \n",
      "---  ------           --------------  -----  \n",
      " 0   pH               2010 non-null   float64\n",
      " 1   Hardness         2010 non-null   float64\n",
      " 2   Solids           2010 non-null   float64\n",
      " 3   Chloramines      2010 non-null   float64\n",
      " 4   Sulfate          2010 non-null   float64\n",
      " 5   Conductivity     2010 non-null   float64\n",
      " 6   OrganicCarbon    2010 non-null   float64\n",
      " 7   Trihalomethanes  2010 non-null   float64\n",
      " 8   Turbidity        2010 non-null   float64\n",
      " 9   Potability       2010 non-null   int64  \n",
      "dtypes: float64(9), int64(1)\n",
      "memory usage: 172.7 KB\n"
     ]
    }
   ],
   "source": [
    "water_potability.info()"
   ]
  },
  {
   "cell_type": "markdown",
   "metadata": {},
   "source": [
    "## Soal 1\n",
    "Menulis deskripsi statistika (Descriptive Statistics) dari semua kolom pada data yang bersifat\n",
    "numerik, terdiri dari mean, median, modus, standar deviasi, variansi, range, nilai minimum,\n",
    "maksimum, kuartil, IQR, skewness dan kurtosis."
   ]
  },
  {
   "cell_type": "markdown",
   "metadata": {},
   "source": [
    "##### a. Mean, Standar Deviasi, Nilai Minimum, Quartile, Nilai Maksimum, Median, Variance, Range, IQR, Skewness, dan Kurtosis"
   ]
  },
  {
   "cell_type": "code",
   "execution_count": 4,
   "metadata": {},
   "outputs": [
    {
     "data": {
      "text/html": [
       "<div>\n",
       "<style scoped>\n",
       "    .dataframe tbody tr th:only-of-type {\n",
       "        vertical-align: middle;\n",
       "    }\n",
       "\n",
       "    .dataframe tbody tr th {\n",
       "        vertical-align: top;\n",
       "    }\n",
       "\n",
       "    .dataframe thead th {\n",
       "        text-align: right;\n",
       "    }\n",
       "</style>\n",
       "<table border=\"1\" class=\"dataframe\">\n",
       "  <thead>\n",
       "    <tr style=\"text-align: right;\">\n",
       "      <th></th>\n",
       "      <th>pH</th>\n",
       "      <th>Hardness</th>\n",
       "      <th>Solids</th>\n",
       "      <th>Chloramines</th>\n",
       "      <th>Sulfate</th>\n",
       "      <th>Conductivity</th>\n",
       "      <th>OrganicCarbon</th>\n",
       "      <th>Trihalomethanes</th>\n",
       "      <th>Turbidity</th>\n",
       "      <th>Potability</th>\n",
       "    </tr>\n",
       "  </thead>\n",
       "  <tbody>\n",
       "    <tr>\n",
       "      <th>count</th>\n",
       "      <td>2010.000000</td>\n",
       "      <td>2010.000000</td>\n",
       "      <td>2.010000e+03</td>\n",
       "      <td>2010.000000</td>\n",
       "      <td>2010.000000</td>\n",
       "      <td>2010.000000</td>\n",
       "      <td>2010.000000</td>\n",
       "      <td>2010.000000</td>\n",
       "      <td>2010.000000</td>\n",
       "      <td>2010.000000</td>\n",
       "    </tr>\n",
       "    <tr>\n",
       "      <th>mean</th>\n",
       "      <td>7.087193</td>\n",
       "      <td>195.969209</td>\n",
       "      <td>2.190467e+04</td>\n",
       "      <td>7.134322</td>\n",
       "      <td>333.211376</td>\n",
       "      <td>426.476708</td>\n",
       "      <td>14.357940</td>\n",
       "      <td>66.400717</td>\n",
       "      <td>3.969497</td>\n",
       "      <td>0.402985</td>\n",
       "    </tr>\n",
       "    <tr>\n",
       "      <th>std</th>\n",
       "      <td>1.572803</td>\n",
       "      <td>32.643166</td>\n",
       "      <td>8.625398e+03</td>\n",
       "      <td>1.585214</td>\n",
       "      <td>41.211111</td>\n",
       "      <td>80.701872</td>\n",
       "      <td>3.325770</td>\n",
       "      <td>16.081109</td>\n",
       "      <td>0.780471</td>\n",
       "      <td>0.490620</td>\n",
       "    </tr>\n",
       "    <tr>\n",
       "      <th>min</th>\n",
       "      <td>0.227499</td>\n",
       "      <td>73.492234</td>\n",
       "      <td>3.209426e+02</td>\n",
       "      <td>1.390871</td>\n",
       "      <td>129.000000</td>\n",
       "      <td>201.619737</td>\n",
       "      <td>2.200000</td>\n",
       "      <td>8.577013</td>\n",
       "      <td>1.450000</td>\n",
       "      <td>0.000000</td>\n",
       "    </tr>\n",
       "    <tr>\n",
       "      <th>25%</th>\n",
       "      <td>6.090785</td>\n",
       "      <td>176.740657</td>\n",
       "      <td>1.561441e+04</td>\n",
       "      <td>6.138326</td>\n",
       "      <td>307.626986</td>\n",
       "      <td>366.619219</td>\n",
       "      <td>12.122530</td>\n",
       "      <td>55.949993</td>\n",
       "      <td>3.442882</td>\n",
       "      <td>0.000000</td>\n",
       "    </tr>\n",
       "    <tr>\n",
       "      <th>50%</th>\n",
       "      <td>7.029490</td>\n",
       "      <td>197.203525</td>\n",
       "      <td>2.092688e+04</td>\n",
       "      <td>7.142014</td>\n",
       "      <td>332.214113</td>\n",
       "      <td>423.438372</td>\n",
       "      <td>14.323286</td>\n",
       "      <td>66.482041</td>\n",
       "      <td>3.967374</td>\n",
       "      <td>0.000000</td>\n",
       "    </tr>\n",
       "    <tr>\n",
       "      <th>75%</th>\n",
       "      <td>8.053006</td>\n",
       "      <td>216.447589</td>\n",
       "      <td>2.717053e+04</td>\n",
       "      <td>8.109933</td>\n",
       "      <td>359.268147</td>\n",
       "      <td>482.209772</td>\n",
       "      <td>16.683562</td>\n",
       "      <td>77.294613</td>\n",
       "      <td>4.514663</td>\n",
       "      <td>1.000000</td>\n",
       "    </tr>\n",
       "    <tr>\n",
       "      <th>max</th>\n",
       "      <td>14.000000</td>\n",
       "      <td>317.338124</td>\n",
       "      <td>5.648867e+04</td>\n",
       "      <td>13.127000</td>\n",
       "      <td>481.030642</td>\n",
       "      <td>753.342620</td>\n",
       "      <td>27.006707</td>\n",
       "      <td>124.000000</td>\n",
       "      <td>6.494749</td>\n",
       "      <td>1.000000</td>\n",
       "    </tr>\n",
       "    <tr>\n",
       "      <th>median</th>\n",
       "      <td>7.029490</td>\n",
       "      <td>197.203525</td>\n",
       "      <td>2.092688e+04</td>\n",
       "      <td>7.142014</td>\n",
       "      <td>332.214113</td>\n",
       "      <td>423.438372</td>\n",
       "      <td>14.323286</td>\n",
       "      <td>66.482041</td>\n",
       "      <td>3.967374</td>\n",
       "      <td>0.000000</td>\n",
       "    </tr>\n",
       "    <tr>\n",
       "      <th>variance</th>\n",
       "      <td>2.473709</td>\n",
       "      <td>1065.576277</td>\n",
       "      <td>7.439749e+07</td>\n",
       "      <td>2.512904</td>\n",
       "      <td>1698.355672</td>\n",
       "      <td>6512.792113</td>\n",
       "      <td>11.060746</td>\n",
       "      <td>258.602066</td>\n",
       "      <td>0.609135</td>\n",
       "      <td>0.240708</td>\n",
       "    </tr>\n",
       "    <tr>\n",
       "      <th>range</th>\n",
       "      <td>13.772501</td>\n",
       "      <td>243.845890</td>\n",
       "      <td>5.616773e+04</td>\n",
       "      <td>11.736129</td>\n",
       "      <td>352.030642</td>\n",
       "      <td>551.722883</td>\n",
       "      <td>24.806707</td>\n",
       "      <td>115.422987</td>\n",
       "      <td>5.044749</td>\n",
       "      <td>1.000000</td>\n",
       "    </tr>\n",
       "    <tr>\n",
       "      <th>IQR</th>\n",
       "      <td>1.962221</td>\n",
       "      <td>39.706932</td>\n",
       "      <td>1.155612e+04</td>\n",
       "      <td>1.971607</td>\n",
       "      <td>51.641161</td>\n",
       "      <td>115.590553</td>\n",
       "      <td>4.561031</td>\n",
       "      <td>21.344620</td>\n",
       "      <td>1.071781</td>\n",
       "      <td>1.000000</td>\n",
       "    </tr>\n",
       "    <tr>\n",
       "      <th>skewness</th>\n",
       "      <td>0.048535</td>\n",
       "      <td>-0.085321</td>\n",
       "      <td>5.910114e-01</td>\n",
       "      <td>0.013003</td>\n",
       "      <td>-0.045728</td>\n",
       "      <td>0.268012</td>\n",
       "      <td>-0.020220</td>\n",
       "      <td>-0.051383</td>\n",
       "      <td>-0.032266</td>\n",
       "      <td>0.395873</td>\n",
       "    </tr>\n",
       "    <tr>\n",
       "      <th>kurtosis</th>\n",
       "      <td>0.626904</td>\n",
       "      <td>0.525480</td>\n",
       "      <td>3.373203e-01</td>\n",
       "      <td>0.549782</td>\n",
       "      <td>0.786854</td>\n",
       "      <td>-0.237206</td>\n",
       "      <td>0.031018</td>\n",
       "      <td>0.223017</td>\n",
       "      <td>-0.049831</td>\n",
       "      <td>-1.845122</td>\n",
       "    </tr>\n",
       "  </tbody>\n",
       "</table>\n",
       "</div>"
      ],
      "text/plain": [
       "                   pH     Hardness        Solids  Chloramines      Sulfate  \\\n",
       "count     2010.000000  2010.000000  2.010000e+03  2010.000000  2010.000000   \n",
       "mean         7.087193   195.969209  2.190467e+04     7.134322   333.211376   \n",
       "std          1.572803    32.643166  8.625398e+03     1.585214    41.211111   \n",
       "min          0.227499    73.492234  3.209426e+02     1.390871   129.000000   \n",
       "25%          6.090785   176.740657  1.561441e+04     6.138326   307.626986   \n",
       "50%          7.029490   197.203525  2.092688e+04     7.142014   332.214113   \n",
       "75%          8.053006   216.447589  2.717053e+04     8.109933   359.268147   \n",
       "max         14.000000   317.338124  5.648867e+04    13.127000   481.030642   \n",
       "median       7.029490   197.203525  2.092688e+04     7.142014   332.214113   \n",
       "variance     2.473709  1065.576277  7.439749e+07     2.512904  1698.355672   \n",
       "range       13.772501   243.845890  5.616773e+04    11.736129   352.030642   \n",
       "IQR          1.962221    39.706932  1.155612e+04     1.971607    51.641161   \n",
       "skewness     0.048535    -0.085321  5.910114e-01     0.013003    -0.045728   \n",
       "kurtosis     0.626904     0.525480  3.373203e-01     0.549782     0.786854   \n",
       "\n",
       "          Conductivity  OrganicCarbon  Trihalomethanes    Turbidity  \\\n",
       "count      2010.000000    2010.000000      2010.000000  2010.000000   \n",
       "mean        426.476708      14.357940        66.400717     3.969497   \n",
       "std          80.701872       3.325770        16.081109     0.780471   \n",
       "min         201.619737       2.200000         8.577013     1.450000   \n",
       "25%         366.619219      12.122530        55.949993     3.442882   \n",
       "50%         423.438372      14.323286        66.482041     3.967374   \n",
       "75%         482.209772      16.683562        77.294613     4.514663   \n",
       "max         753.342620      27.006707       124.000000     6.494749   \n",
       "median      423.438372      14.323286        66.482041     3.967374   \n",
       "variance   6512.792113      11.060746       258.602066     0.609135   \n",
       "range       551.722883      24.806707       115.422987     5.044749   \n",
       "IQR         115.590553       4.561031        21.344620     1.071781   \n",
       "skewness      0.268012      -0.020220        -0.051383    -0.032266   \n",
       "kurtosis     -0.237206       0.031018         0.223017    -0.049831   \n",
       "\n",
       "           Potability  \n",
       "count     2010.000000  \n",
       "mean         0.402985  \n",
       "std          0.490620  \n",
       "min          0.000000  \n",
       "25%          0.000000  \n",
       "50%          0.000000  \n",
       "75%          1.000000  \n",
       "max          1.000000  \n",
       "median       0.000000  \n",
       "variance     0.240708  \n",
       "range        1.000000  \n",
       "IQR          1.000000  \n",
       "skewness     0.395873  \n",
       "kurtosis    -1.845122  "
      ]
     },
     "execution_count": 4,
     "metadata": {},
     "output_type": "execute_result"
    }
   ],
   "source": [
    "desc = water_potability.describe()\n",
    "\n",
    "# Median\n",
    "desc.loc['median'] = water_potability.median()\n",
    "\n",
    "# Variance\n",
    "desc.loc['variance'] = water_potability.var()\n",
    "\n",
    "# Range\n",
    "desc.loc['range'] = water_potability.max()-water_potability.min()\n",
    "\n",
    "# Interquartile Range\n",
    "desc.loc['IQR'] = water_potability.quantile(0.75) - water_potability.quantile(0.25)\n",
    "\n",
    "# Skewness\n",
    "desc.loc['skewness'] = water_potability.skew()\n",
    "\n",
    "# Kurtosis\n",
    "desc.loc['kurtosis'] = water_potability.kurtosis()\n",
    "\n",
    "desc"
   ]
  },
  {
   "cell_type": "markdown",
   "metadata": {},
   "source": [
    "##### b. Modus untuk masing masing atribut"
   ]
  },
  {
   "cell_type": "code",
   "execution_count": 5,
   "metadata": {},
   "outputs": [
    {
     "data": {
      "text/html": [
       "<div>\n",
       "<style scoped>\n",
       "    .dataframe tbody tr th:only-of-type {\n",
       "        vertical-align: middle;\n",
       "    }\n",
       "\n",
       "    .dataframe tbody tr th {\n",
       "        vertical-align: top;\n",
       "    }\n",
       "\n",
       "    .dataframe thead th {\n",
       "        text-align: right;\n",
       "    }\n",
       "</style>\n",
       "<table border=\"1\" class=\"dataframe\">\n",
       "  <thead>\n",
       "    <tr style=\"text-align: right;\">\n",
       "      <th></th>\n",
       "      <th>pH</th>\n",
       "      <th>Hardness</th>\n",
       "      <th>Solids</th>\n",
       "      <th>Chloramines</th>\n",
       "      <th>Sulfate</th>\n",
       "      <th>Conductivity</th>\n",
       "      <th>OrganicCarbon</th>\n",
       "      <th>Trihalomethanes</th>\n",
       "      <th>Turbidity</th>\n",
       "    </tr>\n",
       "  </thead>\n",
       "  <tbody>\n",
       "    <tr>\n",
       "      <th>0</th>\n",
       "      <td>0.227499</td>\n",
       "      <td>73.492234</td>\n",
       "      <td>320.942611</td>\n",
       "      <td>1.390871</td>\n",
       "      <td>129.000000</td>\n",
       "      <td>201.619737</td>\n",
       "      <td>2.200000</td>\n",
       "      <td>8.577013</td>\n",
       "      <td>1.450000</td>\n",
       "    </tr>\n",
       "    <tr>\n",
       "      <th>1</th>\n",
       "      <td>0.989912</td>\n",
       "      <td>77.459586</td>\n",
       "      <td>1198.943699</td>\n",
       "      <td>1.920271</td>\n",
       "      <td>180.206746</td>\n",
       "      <td>210.319182</td>\n",
       "      <td>4.371899</td>\n",
       "      <td>14.343161</td>\n",
       "      <td>1.492207</td>\n",
       "    </tr>\n",
       "    <tr>\n",
       "      <th>2</th>\n",
       "      <td>1.431782</td>\n",
       "      <td>81.710895</td>\n",
       "      <td>1351.906979</td>\n",
       "      <td>2.397985</td>\n",
       "      <td>182.397370</td>\n",
       "      <td>233.907965</td>\n",
       "      <td>4.466772</td>\n",
       "      <td>15.684877</td>\n",
       "      <td>1.496101</td>\n",
       "    </tr>\n",
       "    <tr>\n",
       "      <th>3</th>\n",
       "      <td>1.757037</td>\n",
       "      <td>94.091307</td>\n",
       "      <td>1372.091043</td>\n",
       "      <td>2.456014</td>\n",
       "      <td>187.170714</td>\n",
       "      <td>245.859632</td>\n",
       "      <td>4.861631</td>\n",
       "      <td>16.291505</td>\n",
       "      <td>1.680554</td>\n",
       "    </tr>\n",
       "    <tr>\n",
       "      <th>4</th>\n",
       "      <td>1.985383</td>\n",
       "      <td>94.812545</td>\n",
       "      <td>2552.962804</td>\n",
       "      <td>2.458609</td>\n",
       "      <td>187.424131</td>\n",
       "      <td>252.968328</td>\n",
       "      <td>4.966862</td>\n",
       "      <td>17.527765</td>\n",
       "      <td>1.812529</td>\n",
       "    </tr>\n",
       "    <tr>\n",
       "      <th>...</th>\n",
       "      <td>...</td>\n",
       "      <td>...</td>\n",
       "      <td>...</td>\n",
       "      <td>...</td>\n",
       "      <td>...</td>\n",
       "      <td>...</td>\n",
       "      <td>...</td>\n",
       "      <td>...</td>\n",
       "      <td>...</td>\n",
       "    </tr>\n",
       "    <tr>\n",
       "      <th>2005</th>\n",
       "      <td>11.568768</td>\n",
       "      <td>286.567991</td>\n",
       "      <td>50793.898917</td>\n",
       "      <td>12.580026</td>\n",
       "      <td>458.441072</td>\n",
       "      <td>666.690618</td>\n",
       "      <td>23.569645</td>\n",
       "      <td>114.034946</td>\n",
       "      <td>6.307678</td>\n",
       "    </tr>\n",
       "    <tr>\n",
       "      <th>2006</th>\n",
       "      <td>11.898078</td>\n",
       "      <td>287.975540</td>\n",
       "      <td>53735.899194</td>\n",
       "      <td>12.626900</td>\n",
       "      <td>460.107069</td>\n",
       "      <td>669.725086</td>\n",
       "      <td>23.604298</td>\n",
       "      <td>114.208671</td>\n",
       "      <td>6.357439</td>\n",
       "    </tr>\n",
       "    <tr>\n",
       "      <th>2007</th>\n",
       "      <td>12.246928</td>\n",
       "      <td>300.292476</td>\n",
       "      <td>55334.702799</td>\n",
       "      <td>12.653362</td>\n",
       "      <td>475.737460</td>\n",
       "      <td>695.369528</td>\n",
       "      <td>23.917601</td>\n",
       "      <td>116.161622</td>\n",
       "      <td>6.389161</td>\n",
       "    </tr>\n",
       "    <tr>\n",
       "      <th>2008</th>\n",
       "      <td>13.349889</td>\n",
       "      <td>306.627481</td>\n",
       "      <td>56351.396304</td>\n",
       "      <td>13.043806</td>\n",
       "      <td>476.539717</td>\n",
       "      <td>708.226364</td>\n",
       "      <td>24.755392</td>\n",
       "      <td>120.030077</td>\n",
       "      <td>6.494249</td>\n",
       "    </tr>\n",
       "    <tr>\n",
       "      <th>2009</th>\n",
       "      <td>14.000000</td>\n",
       "      <td>317.338124</td>\n",
       "      <td>56488.672413</td>\n",
       "      <td>13.127000</td>\n",
       "      <td>481.030642</td>\n",
       "      <td>753.342620</td>\n",
       "      <td>27.006707</td>\n",
       "      <td>124.000000</td>\n",
       "      <td>6.494749</td>\n",
       "    </tr>\n",
       "  </tbody>\n",
       "</table>\n",
       "<p>2010 rows × 9 columns</p>\n",
       "</div>"
      ],
      "text/plain": [
       "             pH    Hardness        Solids  Chloramines     Sulfate  \\\n",
       "0      0.227499   73.492234    320.942611     1.390871  129.000000   \n",
       "1      0.989912   77.459586   1198.943699     1.920271  180.206746   \n",
       "2      1.431782   81.710895   1351.906979     2.397985  182.397370   \n",
       "3      1.757037   94.091307   1372.091043     2.456014  187.170714   \n",
       "4      1.985383   94.812545   2552.962804     2.458609  187.424131   \n",
       "...         ...         ...           ...          ...         ...   \n",
       "2005  11.568768  286.567991  50793.898917    12.580026  458.441072   \n",
       "2006  11.898078  287.975540  53735.899194    12.626900  460.107069   \n",
       "2007  12.246928  300.292476  55334.702799    12.653362  475.737460   \n",
       "2008  13.349889  306.627481  56351.396304    13.043806  476.539717   \n",
       "2009  14.000000  317.338124  56488.672413    13.127000  481.030642   \n",
       "\n",
       "      Conductivity  OrganicCarbon  Trihalomethanes  Turbidity  \n",
       "0       201.619737       2.200000         8.577013   1.450000  \n",
       "1       210.319182       4.371899        14.343161   1.492207  \n",
       "2       233.907965       4.466772        15.684877   1.496101  \n",
       "3       245.859632       4.861631        16.291505   1.680554  \n",
       "4       252.968328       4.966862        17.527765   1.812529  \n",
       "...            ...            ...              ...        ...  \n",
       "2005    666.690618      23.569645       114.034946   6.307678  \n",
       "2006    669.725086      23.604298       114.208671   6.357439  \n",
       "2007    695.369528      23.917601       116.161622   6.389161  \n",
       "2008    708.226364      24.755392       120.030077   6.494249  \n",
       "2009    753.342620      27.006707       124.000000   6.494749  \n",
       "\n",
       "[2010 rows x 9 columns]"
      ]
     },
     "execution_count": 5,
     "metadata": {},
     "output_type": "execute_result"
    }
   ],
   "source": [
    "# Modus Atribut Non-Target\n",
    "non_target = water_potability.loc[:, water_potability.columns!='Potability']\n",
    "Modus = non_target.mode()\n",
    "Modus"
   ]
  },
  {
   "cell_type": "markdown",
   "metadata": {},
   "source": [
    "- Data atribut non target bersifat unik sehingga setiap data hanya muncul 1 kali. Akibatnya setiap atribut non target merupakan modus. Jadi, masing-masing atribut memiliki modus sebanyak jumlah data, yaitu 2010 buah."
   ]
  },
  {
   "cell_type": "code",
   "execution_count": 6,
   "metadata": {},
   "outputs": [
    {
     "name": "stdout",
     "output_type": "stream",
     "text": [
      "0    1200\n",
      "1     810\n",
      "Name: Potability, dtype: int64\n",
      "Modus Potability:  0\n"
     ]
    }
   ],
   "source": [
    "# Modus Atribut Target (Potability)\n",
    "print(water_potability['Potability'].value_counts())\n",
    "print(\"Modus Potability: \", water_potability['Potability'].mode().values[0])"
   ]
  },
  {
   "cell_type": "markdown",
   "metadata": {},
   "source": [
    "- Data atribut target (Potability) hanya terdiri dari nilai 0 atau 1. Mayoritas data target bernilai 0 sehingga modusnya adalah 0."
   ]
  },
  {
   "cell_type": "markdown",
   "metadata": {},
   "source": [
    "## Soal 2\n",
    "Membuat Visualisasi plot distribusi, dalam bentuk histogram dan boxplot untuk setiap kolom numerik. Berikan uraian penjelasan kondisi setiap kolom berdasarkan kedua plot tersebut."
   ]
  },
  {
   "cell_type": "markdown",
   "metadata": {},
   "source": [
    "##### a. Atribut pH"
   ]
  },
  {
   "cell_type": "code",
   "execution_count": 7,
   "metadata": {},
   "outputs": [
    {
     "data": {
      "text/plain": [
       "<seaborn.axisgrid.FacetGrid at 0x25fb2002730>"
      ]
     },
     "execution_count": 7,
     "metadata": {},
     "output_type": "execute_result"
    },
    {
     "data": {
      "image/png": "[encoded data removed]",
      "text/plain": [
       "<Figure size 432x288 with 1 Axes>"
      ]
     },
     "metadata": {},
     "output_type": "display_data"
    },
    {
     "data": {
      "image/png": "[encoded data removed]",
      "text/plain": [
       "<Figure size 360x360 with 1 Axes>"
      ]
     },
     "metadata": {},
     "output_type": "display_data"
    }
   ],
   "source": [
    "sns.set_style(\"whitegrid\")\n",
    "# Keseluruhan Data\n",
    "sns.boxplot(y = 'pH', data = water_potability, palette = 'Set3')\n",
    "sns.displot(x = 'pH', data = water_potability, kde = True, color = 'Green')"
   ]
  },
  {
   "cell_type": "markdown",
   "metadata": {},
   "source": [
    "##### b. Atribut Hardness"
   ]
  },
  {
   "cell_type": "code",
   "execution_count": 8,
   "metadata": {},
   "outputs": [
    {
     "data": {
      "text/plain": [
       "<seaborn.axisgrid.FacetGrid at 0x25fb61d4d00>"
      ]
     },
     "execution_count": 8,
     "metadata": {},
     "output_type": "execute_result"
    },
    {
     "data": {
      "image/png": "[encoded data removed]",
      "text/plain": [
       "<Figure size 432x288 with 1 Axes>"
      ]
     },
     "metadata": {},
     "output_type": "display_data"
    },
    {
     "data": {
      "image/png": "[encoded data removed]",
      "text/plain": [
       "<Figure size 360x360 with 1 Axes>"
      ]
     },
     "metadata": {},
     "output_type": "display_data"
    }
   ],
   "source": [
    "# Keseluruhan Data\n",
    "sns.boxplot(y = 'Hardness', data = water_potability, palette = 'Set3')\n",
    "sns.displot(x = 'Hardness', data = water_potability, kde = True, color = 'Green')"
   ]
  },
  {
   "cell_type": "markdown",
   "metadata": {},
   "source": [
    "##### c. Atribut Solids"
   ]
  },
  {
   "cell_type": "code",
   "execution_count": 9,
   "metadata": {},
   "outputs": [
    {
     "data": {
      "text/plain": [
       "<seaborn.axisgrid.FacetGrid at 0x25fb6370d60>"
      ]
     },
     "execution_count": 9,
     "metadata": {},
     "output_type": "execute_result"
    },
    {
     "data": {
      "image/png": "[encoded data removed]",
      "text/plain": [
       "<Figure size 432x288 with 1 Axes>"
      ]
     },
     "metadata": {},
     "output_type": "display_data"
    },
    {
     "data": {
      "image/png": "[encoded data removed]",
      "text/plain": [
       "<Figure size 360x360 with 1 Axes>"
      ]
     },
     "metadata": {},
     "output_type": "display_data"
    }
   ],
   "source": [
    "# Keseluruhan Data\n",
    "sns.boxplot(y = 'Solids', data = water_potability, palette = 'Set3')\n",
    "sns.displot(x = 'Solids', data = water_potability, kde = True, color = 'Green')"
   ]
  },
  {
   "cell_type": "markdown",
   "metadata": {},
   "source": [
    "##### d. Atribut Chloramines"
   ]
  },
  {
   "cell_type": "code",
   "execution_count": 10,
   "metadata": {},
   "outputs": [
    {
     "data": {
      "text/plain": [
       "<seaborn.axisgrid.FacetGrid at 0x25fb640c2e0>"
      ]
     },
     "execution_count": 10,
     "metadata": {},
     "output_type": "execute_result"
    },
    {
     "data": {
      "image/png": "[encoded data removed]",
      "text/plain": [
       "<Figure size 432x288 with 1 Axes>"
      ]
     },
     "metadata": {},
     "output_type": "display_data"
    },
    {
     "data": {
      "image/png": "[encoded data removed]",
      "text/plain": [
       "<Figure size 360x360 with 1 Axes>"
      ]
     },
     "metadata": {},
     "output_type": "display_data"
    }
   ],
   "source": [
    "# Keseluruhan Data\n",
    "sns.boxplot(y = 'Chloramines', data = water_potability, palette = 'Set3')\n",
    "sns.displot(x = 'Chloramines', data = water_potability, kde = True, color = 'Green')"
   ]
  },
  {
   "cell_type": "markdown",
   "metadata": {},
   "source": [
    "##### e. Atribut Sulfate"
   ]
  },
  {
   "cell_type": "code",
   "execution_count": 11,
   "metadata": {},
   "outputs": [
    {
     "data": {
      "text/plain": [
       "<seaborn.axisgrid.FacetGrid at 0x25fb6400b50>"
      ]
     },
     "execution_count": 11,
     "metadata": {},
     "output_type": "execute_result"
    },
    {
     "data": {
      "image/png": "[encoded data removed]",
      "text/plain": [
       "<Figure size 432x288 with 1 Axes>"
      ]
     },
     "metadata": {},
     "output_type": "display_data"
    },
    {
     "data": {
      "image/png": "[encoded data removed]",
      "text/plain": [
       "<Figure size 360x360 with 1 Axes>"
      ]
     },
     "metadata": {},
     "output_type": "display_data"
    }
   ],
   "source": [
    "# Keseluruhan Data\n",
    "sns.boxplot(y = 'Sulfate', data = water_potability, palette = 'Set3')\n",
    "sns.displot(x = 'Sulfate', data = water_potability, kde = True, color = 'Green')"
   ]
  },
  {
   "cell_type": "markdown",
   "metadata": {},
   "source": [
    "##### f. Atribut Conductivity"
   ]
  },
  {
   "cell_type": "code",
   "execution_count": 12,
   "metadata": {},
   "outputs": [
    {
     "data": {
      "text/plain": [
       "<seaborn.axisgrid.FacetGrid at 0x25fb6616040>"
      ]
     },
     "execution_count": 12,
     "metadata": {},
     "output_type": "execute_result"
    },
    {
     "data": {
      "image/png": "[encoded data removed]",
      "text/plain": [
       "<Figure size 432x288 with 1 Axes>"
      ]
     },
     "metadata": {},
     "output_type": "display_data"
    },
    {
     "data": {
      "image/png": "[encoded data removed]",
      "text/plain": [
       "<Figure size 360x360 with 1 Axes>"
      ]
     },
     "metadata": {},
     "output_type": "display_data"
    }
   ],
   "source": [
    "# Keseluruhan Data\n",
    "sns.boxplot(y = 'Conductivity', data = water_potability, palette = 'Set3')\n",
    "sns.displot(x = 'Conductivity', data = water_potability, kde = True, color = 'Green')"
   ]
  },
  {
   "cell_type": "markdown",
   "metadata": {},
   "source": [
    "##### g. Atribut OrganicCarbon"
   ]
  },
  {
   "cell_type": "code",
   "execution_count": 13,
   "metadata": {},
   "outputs": [
    {
     "data": {
      "text/plain": [
       "<seaborn.axisgrid.FacetGrid at 0x25fb204cf10>"
      ]
     },
     "execution_count": 13,
     "metadata": {},
     "output_type": "execute_result"
    },
    {
     "data": {
      "image/png": "[encoded data removed]",
      "text/plain": [
       "<Figure size 432x288 with 1 Axes>"
      ]
     },
     "metadata": {},
     "output_type": "display_data"
    },
    {
     "data": {
      "image/png": "[encoded data removed]",
      "text/plain": [
       "<Figure size 360x360 with 1 Axes>"
      ]
     },
     "metadata": {},
     "output_type": "display_data"
    }
   ],
   "source": [
    "# Keseluruhan Data\n",
    "sns.boxplot(y = 'OrganicCarbon', data = water_potability, palette = 'Set3')\n",
    "sns.displot(x = 'OrganicCarbon', data = water_potability, kde = True, color = 'Green')"
   ]
  },
  {
   "cell_type": "markdown",
   "metadata": {},
   "source": [
    "##### h. Atribut Trihalomethanes"
   ]
  },
  {
   "cell_type": "code",
   "execution_count": 14,
   "metadata": {},
   "outputs": [
    {
     "data": {
      "text/plain": [
       "<seaborn.axisgrid.FacetGrid at 0x25fb68346d0>"
      ]
     },
     "execution_count": 14,
     "metadata": {},
     "output_type": "execute_result"
    },
    {
     "data": {
      "image/png": "[encoded data removed]",
      "text/plain": [
       "<Figure size 432x288 with 1 Axes>"
      ]
     },
     "metadata": {},
     "output_type": "display_data"
    },
    {
     "data": {
      "image/png": "[encoded data removed]",
      "text/plain": [
       "<Figure size 360x360 with 1 Axes>"
      ]
     },
     "metadata": {},
     "output_type": "display_data"
    }
   ],
   "source": [
    "# Keseluruhan Data\n",
    "sns.boxplot(y = 'Trihalomethanes', data = water_potability, palette = 'Set3')\n",
    "sns.displot(x = 'Trihalomethanes', data = water_potability, kde = True, color = 'Green')"
   ]
  },
  {
   "cell_type": "markdown",
   "metadata": {},
   "source": [
    "##### i. Atribut Turbidity"
   ]
  },
  {
   "cell_type": "code",
   "execution_count": 15,
   "metadata": {},
   "outputs": [
    {
     "data": {
      "text/plain": [
       "<seaborn.axisgrid.FacetGrid at 0x25fb79205b0>"
      ]
     },
     "execution_count": 15,
     "metadata": {},
     "output_type": "execute_result"
    },
    {
     "data": {
      "image/png": "[encoded data removed]",
      "text/plain": [
       "<Figure size 432x288 with 1 Axes>"
      ]
     },
     "metadata": {},
     "output_type": "display_data"
    },
    {
     "data": {
      "image/png": "[encoded data removed]",
      "text/plain": [
       "<Figure size 360x360 with 1 Axes>"
      ]
     },
     "metadata": {},
     "output_type": "display_data"
    }
   ],
   "source": [
    "# Keseluruhan Data\n",
    "sns.boxplot(y = 'Turbidity', data = water_potability, palette = 'Set3')\n",
    "sns.displot(x = 'Turbidity', data = water_potability, kde = True, color = 'Green')"
   ]
  },
  {
   "cell_type": "markdown",
   "metadata": {},
   "source": [
    "## Soal 3\n",
    "Menentukan setiap kolom numerik berdistribusi normal atau tidak"
   ]
  },
  {
   "cell_type": "markdown",
   "metadata": {},
   "source": [
    "Metode yang digunakan yakni dengan melihat kelancipan dari histogram (kurtosis) serta kesimetrian dari histogram (skewness). Sebuah data dikatakan berdistribusi normal bila distribusi nilainya tidak membentuk histogram yang terlalu landai ataupun terlalu lancip serta histogram juga simetri pada titik mean, median, dan modus"
   ]
  },
  {
   "cell_type": "markdown",
   "metadata": {},
   "source": [
    "##### a. Atribut pH"
   ]
  },
  {
   "cell_type": "markdown",
   "metadata": {},
   "source": [
    "Berdasarkan distribusi data atribut pH dari histogram diperoleh kurva yang simetri, namun kurva memiliki bentuk yang cenderung lancip sehingga tidak dapat diklasifikasikan sebagai kurva berdistribusi normal"
   ]
  },
  {
   "cell_type": "markdown",
   "metadata": {},
   "source": [
    "##### b. Atribut Hardness"
   ]
  },
  {
   "cell_type": "markdown",
   "metadata": {},
   "source": [
    "Berdasarkan distribusi data atribut Hardness dari histogram diperoleh kurva yang simetri, namun kurva memiliki bentuk yang cenderung lancip sehingga tidak dapat diklasifikasikan sebagai kurva berdistribusi normal"
   ]
  },
  {
   "cell_type": "markdown",
   "metadata": {},
   "source": [
    "##### c. Atribut Solids"
   ]
  },
  {
   "cell_type": "markdown",
   "metadata": {},
   "source": [
    "Berdasarkan distribusi data atribut Solids dari histogram diperoleh kurva yang tidak simetri karena kurva memiliki modus yang lebih kecil dibandingkan mean sehingga kurva cenderung landai untuk x yang lebih besar. Selain itu, kurva memiliki bentuk yang sedikit lancip sehingga tidak dapat diklasifikasikan sebagai kurva berdistribusi normal"
   ]
  },
  {
   "cell_type": "markdown",
   "metadata": {},
   "source": [
    "##### d. Atribut Chloramines"
   ]
  },
  {
   "cell_type": "markdown",
   "metadata": {},
   "source": [
    "Berdasarkan distribusi data atribut Chloramines dari histogram diperoleh kurva yang simetri, namun kurva memiliki bentuk yang sedikit lancip sehingga tidak dapat diklasifikasikan sebagai kurva berdistribusi normal"
   ]
  },
  {
   "cell_type": "markdown",
   "metadata": {},
   "source": [
    "##### e. Atribut Sulfate"
   ]
  },
  {
   "cell_type": "markdown",
   "metadata": {},
   "source": [
    "Berdasarkan distribusi data atribut Sulfate dari histogram diperoleh kurva yang tidak simetri karena kurva memiliki modus yang lebih besar dibandingkan mean sehingga kurva cenderung landai untuk x yang lebih kecil. Selain itu, kurva memiliki bentuk yang cenderung lancip sehingga tidak dapat diklasifikasikan sebagai kurva berdistribusi normal"
   ]
  },
  {
   "cell_type": "markdown",
   "metadata": {},
   "source": [
    "##### f. Atribut Conductivity"
   ]
  },
  {
   "cell_type": "markdown",
   "metadata": {},
   "source": [
    "Berdasarkan distribusi data atribut Conductivity dari histogram diperoleh kurva yang tidak simetri karena kurva memiliki modus yang lebih kecil dibandingkan mean sehingga kurva cenderung landai untuk x yang lebih kecil. Akan tetapi, kurva tidak terlalu lancip serta tidak terlalu landai. Oleh karena itu kurva tidak dapat diklasifikasikan sebagai kurva berdistribusi normal"
   ]
  },
  {
   "cell_type": "markdown",
   "metadata": {},
   "source": [
    "##### g. Atribut OrganicCarbon"
   ]
  },
  {
   "cell_type": "markdown",
   "metadata": {},
   "source": [
    "Berdasarkan distribusi data atribut OrganicCarbon dari histogram diperoleh kurva yang simetri, namun kurva memiliki bentuk yang sedikit lancip sehingga tidak dapat diklasifikasikan sebagai kurva berdistribusi normal"
   ]
  },
  {
   "cell_type": "markdown",
   "metadata": {},
   "source": [
    "##### h. Atribut Trihalomethanes"
   ]
  },
  {
   "cell_type": "markdown",
   "metadata": {},
   "source": [
    "Berdasarkan distribusi data atribut Trihalomethanes dari histogram diperoleh kurva yang simetri, namun kurva memiliki bentuk yang cenderung lancip sehingga tidak dapat diklasifikasikan sebagai kurva berdistribusi normal"
   ]
  },
  {
   "cell_type": "markdown",
   "metadata": {},
   "source": [
    "##### i. Atribut Turbidity"
   ]
  },
  {
   "cell_type": "markdown",
   "metadata": {},
   "source": [
    "Berdasarkan distribusi data atribut Turbidity dari histogram diperoleh kurva yang simetri, selain itu kurva tidak terlalu lancip maupun terlalu landai sehingga kurva dapat diklasifikasikan sebagai kurva yang berdistribusi normal"
   ]
  },
  {
   "cell_type": "markdown",
   "metadata": {},
   "source": [
    "## Soal 4\n",
    "Melakukan test hipotesis 1 sampel, dengan menuliskan 6 langkah testing dan menampilkan juga boxplotnya untuk kolom/bagian yang bersesuaian."
   ]
  },
  {
   "cell_type": "code",
   "execution_count": 16,
   "metadata": {},
   "outputs": [],
   "source": [
    "comparison_symbol = ['<', '≠', '>']\n",
    "\n",
    "def uji_hipotesis_mean(case, x_bar, mu_0, sigma, n, alpha):\n",
    "    symbol = comparison_symbol[case]\n",
    "    print(\"Uji Hipotesis (mean):\")\n",
    "    print(\"1. Hipotesis nol\\n   H₀: μ = {}\".format(mu_0))\n",
    "    print(\"2. Hipotesis alternatif\\n   H₁: μ {} {} ({}-tailed test)\".format(symbol, mu_0, \"Two\" if case == 1 else \"One\"))\n",
    "    print(\"3. Tingkat signifikan\\n   α = {}\".format(alpha))\n",
    "    print(\"4. Uji statistik menggunakan distribusi normal\")\n",
    "    print(\"   Daerah kritis adalah \", end=\"\")\n",
    "    z_0 = st.norm.ppf((1 - alpha / 2) if case == 1 else (1 - alpha))\n",
    "    if (case == 0):\n",
    "        print(\"z < -Zα = {:.3f}\".format(-z_0))\n",
    "        print(\"   Nilai Zα adalah nilai z yang memenuhi P(Z < z) = 1 - α = {}\".format(1 - alpha))\n",
    "    elif (case == 1):\n",
    "        print(\"z < -Z½α = {:.3f} atau z > Z½α = {:.3f}\".format(-z_0, z_0))\n",
    "        print(\"   Nilai Z½α adalah nilai z yang memenuhi P(Z < z) = 1 - ½α = {}\".format(1 - alpha/2))\n",
    "    else:\n",
    "        print(\"z > Zα = {:.3f}\".format(z_0))\n",
    "        print(\"   Nilai Zα adalah nilai z yang memenuhi P(Z < z) = 1 - α = {}\".format(1 - alpha))\n",
    "    print(\"5. Perhitungan nilai uji statistik dan P-Value\")\n",
    "    print(\"   z = (x̄ - μ₀) / (σ √n)\")\n",
    "    print(\"   z = ({} - {}) / ({} √{})\".format(x_bar, mu_0, sigma, n))\n",
    "    z = (x_bar - mu_0) / (sigma * np.sqrt(n))\n",
    "    print(\"   z = {:.3f}\".format(z))\n",
    "    P1 = st.norm.cdf(-z/2 if case == 1 else -z)\n",
    "    P2 = st.norm.sf(z/2 if case == 1 else z)\n",
    "    if (case == 0):\n",
    "        print(\"   P(Z < {:.3f}) = {:.4f}\".format(-z, P1))\n",
    "        terima = P1 > alpha\n",
    "    elif (case == 1):\n",
    "        print(\"   P(Z < {:.3f}) = {:.4f} dan P(Z > {:.3f}) = {:.4f}\".format(-z, P1, z, P2))\n",
    "        terima = P1 > alpha and P2 > alpha\n",
    "    else:\n",
    "        print(\"   P(Z > {:.3f}) = {:.4f}\".format(z, P2))\n",
    "        terima = P2 > alpha\n",
    "    print(\"6. Kesimpulan\")\n",
    "    if (terima):\n",
    "        print(\"   Tidak menolak H₀ karena nilai P > α sehingga dapat disimpulkan nilai rata-rata pH = {}\".format(mu_0))\n",
    "    else:\n",
    "        print(\"   Tolak H₀ karena nilai P < α sehingga dapat disimpulkan nilai rata-rata pH {} {}\".format(symbol, mu_0))\n",
    "    print()"
   ]
  },
  {
   "cell_type": "markdown",
   "metadata": {},
   "source": [
    "##### a. Nilai Rata-rata pH di atas 7?"
   ]
  },
  {
   "cell_type": "code",
   "execution_count": 17,
   "metadata": {},
   "outputs": [
    {
     "name": "stdout",
     "output_type": "stream",
     "text": [
      "Diketahui:\n",
      "  x̄ = 7.0871927687138285\n",
      "  σ = 1.5728029470456655\n",
      "  n = 2010\n",
      "  μ₀ = 7\n",
      "\n",
      "Asumsi: Tingkat kepercayaan adalah 95% sehingga α = 0.05\n",
      "\n",
      "Uji Hipotesis (mean):\n",
      "1. Hipotesis nol\n",
      "   H₀: μ = 7\n",
      "2. Hipotesis alternatif\n",
      "   H₁: μ > 7 (One-tailed test)\n",
      "3. Tingkat signifikan\n",
      "   α = 0.05\n",
      "4. Uji statistik menggunakan distribusi normal\n",
      "   Daerah kritis adalah z > Zα = 1.645\n",
      "   Nilai Zα adalah nilai z yang memenuhi P(Z < z) = 1 - α = 0.95\n",
      "5. Perhitungan nilai uji statistik dan P-Value\n",
      "   z = (x̄ - μ₀) / (σ √n)\n",
      "   z = (7.0871927687138285 - 7) / (1.5728029470456655 √2010)\n",
      "   z = 0.001\n",
      "   P(Z > 0.001) = 0.4995\n",
      "6. Kesimpulan\n",
      "   Tidak menolak H₀ karena nilai P > α sehingga dapat disimpulkan nilai rata-rata pH = 7\n",
      "\n",
      "Boxplot:\n"
     ]
    },
    {
     "data": {
      "text/plain": [
       "<AxesSubplot:ylabel='pH'>"
      ]
     },
     "execution_count": 17,
     "metadata": {},
     "output_type": "execute_result"
    },
    {
     "data": {
      "image/png": "[encoded data removed]",
      "text/plain": [
       "<Figure size 432x288 with 1 Axes>"
      ]
     },
     "metadata": {},
     "output_type": "display_data"
    }
   ],
   "source": [
    "# Variabel\n",
    "mu_0 = 7\n",
    "alpha = 0.05\n",
    "x_bar = water_potability['pH'].mean()\n",
    "sigma = water_potability['pH'].std()\n",
    "n = len(water_potability)\n",
    "print(\"Diketahui:\\n  x̄ = {}\\n  σ = {}\\n  n = {}\\n  μ₀ = {}\\n\".format(x_bar, sigma, n, mu_0))\n",
    "print(\"Asumsi: Tingkat kepercayaan adalah 95% sehingga α = {}\\n\".format(alpha))\n",
    "\n",
    "# Uji Hipotesis\n",
    "uji_hipotesis_mean(2, x_bar, mu_0, sigma, n, alpha)\n",
    "\n",
    "# Visualisasi Boxplot\n",
    "print(\"Boxplot:\")\n",
    "sns.boxplot(y = 'pH', data = water_potability, palette = 'Set2')"
   ]
  },
  {
   "cell_type": "markdown",
   "metadata": {},
   "source": [
    "##### b. Nilai Rata-rata Hardness tidak sama dengan 205?"
   ]
  },
  {
   "cell_type": "code",
   "execution_count": 18,
   "metadata": {},
   "outputs": [
    {
     "name": "stdout",
     "output_type": "stream",
     "text": [
      "Diketahui:\n",
      "  x̄ = 195.96920903783524\n",
      "  σ = 32.643165859429864\n",
      "  n = 2010\n",
      "  μ₀ = 205\n",
      "Asumsi: Tingkat kepercayaan adalah 95% sehingga α = 0.05\n",
      "\n",
      "Uji Hipotesis (mean):\n",
      "1. Hipotesis nol\n",
      "   H₀: μ = 205\n",
      "2. Hipotesis alternatif\n",
      "   H₁: μ ≠ 205 (Two-tailed test)\n",
      "3. Tingkat signifikan\n",
      "   α = 0.05\n",
      "4. Uji statistik menggunakan distribusi normal\n",
      "   Daerah kritis adalah z < -Z½α = -1.960 atau z > Z½α = 1.960\n",
      "   Nilai Z½α adalah nilai z yang memenuhi P(Z < z) = 1 - ½α = 0.975\n",
      "5. Perhitungan nilai uji statistik dan P-Value\n",
      "   z = (x̄ - μ₀) / (σ √n)\n",
      "   z = (195.96920903783524 - 205) / (32.643165859429864 √2010)\n",
      "   z = -0.006\n",
      "   P(Z < 0.006) = 0.5012 dan P(Z > -0.006) = 0.5012\n",
      "6. Kesimpulan\n",
      "   Tidak menolak H₀ karena nilai P > α sehingga dapat disimpulkan nilai rata-rata pH = 205\n",
      "\n",
      "Boxplot:\n"
     ]
    },
    {
     "data": {
      "text/plain": [
       "<AxesSubplot:ylabel='Hardness'>"
      ]
     },
     "execution_count": 18,
     "metadata": {},
     "output_type": "execute_result"
    },
    {
     "data": {
      "image/png": "[encoded data removed]",
      "text/plain": [
       "<Figure size 432x288 with 1 Axes>"
      ]
     },
     "metadata": {},
     "output_type": "display_data"
    }
   ],
   "source": [
    "# Variabel\n",
    "mu_0 = 205\n",
    "alpha = 0.05\n",
    "x_bar = water_potability['Hardness'].mean()\n",
    "sigma = water_potability['Hardness'].std()\n",
    "n = len(water_potability)\n",
    "print(\"Diketahui:\\n  x̄ = {}\\n  σ = {}\\n  n = {}\\n  μ₀ = {}\".format(x_bar, sigma, n, mu_0))\n",
    "print(\"Asumsi: Tingkat kepercayaan adalah 95% sehingga α = {}\\n\".format(alpha))\n",
    "\n",
    "# Uji Hipotesis\n",
    "uji_hipotesis_mean(1, x_bar, mu_0, sigma, n, alpha)\n",
    "\n",
    "# Visualisasi Boxplot\n",
    "print(\"Boxplot:\")\n",
    "sns.boxplot(y = 'Hardness', data = water_potability, palette = 'Set2')"
   ]
  },
  {
   "cell_type": "markdown",
   "metadata": {},
   "source": [
    "##### c. Nilai Rata-rata 100 baris pertama kolom Solids bukan 21900?"
   ]
  },
  {
   "cell_type": "code",
   "execution_count": 19,
   "metadata": {},
   "outputs": [
    {
     "name": "stdout",
     "output_type": "stream",
     "text": [
      "Diketahui:\n",
      "  x̄ = 22347.334446383426\n",
      "  σ = 7935.967706199006\n",
      "  n = 100\n",
      "  μ₀ = 21900\n",
      "Asumsi: Tingkat kepercayaan adalah 95% sehingga α = 0.05\n",
      "\n",
      "Uji Hipotesis (mean):\n",
      "1. Hipotesis nol\n",
      "   H₀: μ = 21900\n",
      "2. Hipotesis alternatif\n",
      "   H₁: μ ≠ 21900 (Two-tailed test)\n",
      "3. Tingkat signifikan\n",
      "   α = 0.05\n",
      "4. Uji statistik menggunakan distribusi normal\n",
      "   Daerah kritis adalah z < -Z½α = -1.960 atau z > Z½α = 1.960\n",
      "   Nilai Z½α adalah nilai z yang memenuhi P(Z < z) = 1 - ½α = 0.975\n",
      "5. Perhitungan nilai uji statistik dan P-Value\n",
      "   z = (x̄ - μ₀) / (σ √n)\n",
      "   z = (22347.334446383426 - 21900) / (7935.967706199006 √100)\n",
      "   z = 0.006\n",
      "   P(Z < -0.006) = 0.4989 dan P(Z > 0.006) = 0.4989\n",
      "6. Kesimpulan\n",
      "   Tidak menolak H₀ karena nilai P > α sehingga dapat disimpulkan nilai rata-rata pH = 21900\n",
      "\n",
      "Boxplot:\n"
     ]
    },
    {
     "data": {
      "text/plain": [
       "<AxesSubplot:ylabel='Solids'>"
      ]
     },
     "execution_count": 19,
     "metadata": {},
     "output_type": "execute_result"
    },
    {
     "data": {
      "image/png": "[encoded data removed]",
      "text/plain": [
       "<Figure size 432x288 with 1 Axes>"
      ]
     },
     "metadata": {},
     "output_type": "display_data"
    }
   ],
   "source": [
    "# Variabel\n",
    "mu_0 = 21900\n",
    "alpha = 0.05\n",
    "x_bar = water_potability.head(100)['Solids'].mean()\n",
    "sigma = water_potability.head(100)['Solids'].std()\n",
    "n = 100\n",
    "print(\"Diketahui:\\n  x̄ = {}\\n  σ = {}\\n  n = {}\\n  μ₀ = {}\".format(x_bar, sigma, n, mu_0))\n",
    "print(\"Asumsi: Tingkat kepercayaan adalah 95% sehingga α = {}\\n\".format(alpha))\n",
    "\n",
    "# Uji Hipotesis\n",
    "uji_hipotesis_mean(1, x_bar, mu_0, sigma, n, alpha)\n",
    "\n",
    "# Visualisasi Boxplot\n",
    "print(\"Boxplot:\")\n",
    "sns.boxplot(y = 'Solids', data = water_potability, palette = 'Set2')"
   ]
  },
  {
   "cell_type": "markdown",
   "metadata": {},
   "source": [
    "##### d. Proporsi nilai Conductivity yang lebih dari 450, adalah tidak sama dengan 10%?"
   ]
  },
  {
   "cell_type": "code",
   "execution_count": null,
   "metadata": {},
   "outputs": [],
   "source": []
  },
  {
   "cell_type": "markdown",
   "metadata": {},
   "source": [
    "##### e. Proporsi nilai Trihalomethanes yang kurang dari 40, adalah kurang dari 5%?"
   ]
  },
  {
   "cell_type": "code",
   "execution_count": null,
   "metadata": {},
   "outputs": [],
   "source": []
  },
  {
   "cell_type": "markdown",
   "metadata": {},
   "source": [
    "## Soal 5\n",
    "Melakukan test hipotesis 2 sampel, dengan menuliskan 6 langkah testing dan menampilkan juga boxplotnya untuk kolom/bagian yang bersesuaian."
   ]
  },
  {
   "cell_type": "markdown",
   "metadata": {},
   "source": [
    "##### a. Data kolom Sulfate dibagi 2 sama rata: bagian awal dan bagian akhir kolom. Benarkah rata-rata kedua bagian tersebut sama?"
   ]
  },
  {
   "cell_type": "code",
   "execution_count": 61,
   "metadata": {},
   "outputs": [
    {
     "name": "stdout",
     "output_type": "stream",
     "text": [
      "Diketahui:\n",
      "  x̄₁ = 331.30532950549565\n",
      "  x̄₂ = 335.11742332488245\n",
      "  σ₁ = 41.332754590968776\n",
      "  σ₂ = 41.02112948764952\n",
      "  n₁ = 1005\n",
      "  n₂ = 1005\n",
      "  d₀ = 0\n",
      "  α = 0.05\n",
      "\n",
      "\n",
      "Uji Hipotesis (mean):\n",
      "1. Hipotesis nol\n",
      "   H₀: μ₁-μ₂ = 0\n",
      "2. Hipotesis alternatif\n",
      "   H₁: μ₁-μ₂ > 0 atau μ₁-μ₂ < 0  (Two tailed test)\n",
      "3. Tingkat signifikan\n",
      "   α = 0.05\n",
      "4. Daerah kritis\n",
      "   z < -1.960 atau z > 1.960 , diperoleh dari nilai z yang memenuhi P(Z < z) = α/2 = 0.025 atau P(Z < z) = 1 - α/2 = 0.975\n",
      "5. Perhitungan p-value\n",
      "   z = ((x̄₁ - x̄₂) - μ₀) / (√(σ₁²/n₁ + σ₂²/n₂)\n",
      "   z = ((331.30532950549565 - 335.11742332488245) - 0) / (√(41.332754590968776²/1005 + 41.02112948764952²/1005)\n",
      "   z = -0.074\n",
      "   P = 0.4707010325658625\n",
      "6. Kesimpulan\n",
      "   Nilai α/2 < P < 1 - α/2, maka tidak menolak H₀ dan dapat disimpulkan nilai rata-rata Sulfate bagian awal dan bagian akhir sama\n",
      "\n",
      "Boxplot:\n"
     ]
    },
    {
     "data": {
      "image/png": "[encoded data removed]",
      "text/plain": [
       "<Figure size 432x288 with 1 Axes>"
      ]
     },
     "metadata": {
      "needs_background": "light"
     },
     "output_type": "display_data"
    },
    {
     "data": {
      "image/png": "[encoded data removed]",
      "text/plain": [
       "<Figure size 432x288 with 1 Axes>"
      ]
     },
     "metadata": {
      "needs_background": "light"
     },
     "output_type": "display_data"
    }
   ],
   "source": [
    "# Split data into two\n",
    "dataSulfate1=water_potability[\"Sulfate\"][:len(water_potability)//2]\n",
    "dataSulfate2=water_potability[\"Sulfate\"][len(water_potability)//2:len(water_potability)]\n",
    "\n",
    "d_0=0\n",
    "x_bar_1=dataSulfate1.mean()\n",
    "x_bar_2=dataSulfate2.mean()\n",
    "sigma_1=dataSulfate1.std()\n",
    "sigma_2=dataSulfate2.std()\n",
    "alpha=0.05\n",
    "n_1=len(dataSulfate1)\n",
    "n_2=len(dataSulfate2)\n",
    "h_0=0\n",
    "z_01=st.norm.ppf(alpha/2)\n",
    "z_02=st.norm.ppf(1 - alpha/2)\n",
    "\n",
    "print(\"Diketahui:\\n  x̄₁ = {}\\n  x̄₂ = {}\\n  σ₁ = {}\\n  σ₂ = {}\\n  n₁ = {}\\n  n₂ = {}\\n  d₀ = {}\\n  α = {}\\n\".format(x_bar_1,x_bar_2,sigma_1,sigma_2,n_1,n_2,d_0,alpha))\n",
    "print(\"\\nUji Hipotesis (mean):\")\n",
    "print(\"1. Hipotesis nol\\n   H₀: μ₁-μ₂ = {}\".format(h_0))\n",
    "print(\"2. Hipotesis alternatif\\n   H₁: μ₁-μ₂ > {} atau μ₁-μ₂ < {}  (Two tailed test)\".format(h_0,h_0))\n",
    "print(\"3. Tingkat signifikan\\n   α = {}\".format(alpha))\n",
    "print(\"4. Daerah kritis\\n   z < {:.3f} atau z > {:.3f} , diperoleh dari nilai z yang memenuhi P(Z < z) = α/2 = {} atau P(Z < z) = 1 - α/2 = {}\".format(z_01,z_02,alpha/2, (1 - alpha/2)))\n",
    "print(\"5. Perhitungan p-value\")\n",
    "print(\"   z = ((x̄₁ - x̄₂) - μ₀) / (√(σ₁²/n₁ + σ₂²/n₂)\")\n",
    "print(\"   z = (({} - {}) - {}) / (√({}²/{} + {}²/{})\".format(x_bar_1,x_bar_2, d_0, sigma_1, n_1,sigma_2,n_2))\n",
    "z = ((x_bar_1-x_bar_2) - d_0) / math.sqrt(sigma_1**2/n_1+sigma_2**2+n_2)\n",
    "print(\"   z = {:.3f}\".format(z))\n",
    "P = st.norm.cdf(z)\n",
    "print(\"   P = {}\".format(P))\n",
    "print(\"6. Kesimpulan\")\n",
    "if (P > 1-alpha/2):\n",
    "    print(\"   Nilai P > 1 - α/2, maka tolak H₀ dan dapat disimpulkan nilai rata-rata Sulfate bagian awal dan bagian akhir berbeda\")\n",
    "elif (P < alpha/2):\n",
    "    print(\"   Nilai P < α/2, maka tolak H₀ dan dapat disimpulkan nilai rata-rata Sulfate bagian awal dan bagian akhir berbeda\")\n",
    "else:\n",
    "    print(\"   Nilai α/2 < P < 1 - α/2, maka tidak menolak H₀ dan dapat disimpulkan nilai rata-rata Sulfate bagian awal dan bagian akhir sama\")\n",
    "\n",
    "print(\"\\nBoxplot:\")\n",
    "\n",
    "sns.boxplot( data = dataSulfate1.values, palette = 'Set2')\n",
    "plt.show()\n",
    "sns.boxplot( data = dataSulfate2.values, palette = 'Set3')\n",
    "plt.show()"
   ]
  },
  {
   "cell_type": "markdown",
   "metadata": {},
   "source": [
    "##### b. Data kolom OrganicCarbon dibagi 2 sama rata: bagian awal dan bagian akhir kolom. Benarkah rata-rata bagian awal lebih besar dari pada bagian akhir sebesar 0.15?"
   ]
  },
  {
   "cell_type": "code",
   "execution_count": 55,
   "metadata": {},
   "outputs": [
    {
     "name": "stdout",
     "output_type": "stream",
     "text": [
      "Diketahui:\n",
      "  x̄₁ = 14.253972723723393\n",
      "  x̄₂ = 14.461907080372754\n",
      "  σ₁ = 3.3511620707420766\n",
      "  σ₂ = 3.2985726887318214\n",
      "  n₁ = 1005\n",
      "  n₂ = 1005\n",
      "  d₀ = 0\n",
      "  α = 0.05\n",
      "\n",
      "\n",
      "Uji Hipotesis (mean):\n",
      "1. Hipotesis nol\n",
      "   H₀: μ₁-μ₂ = 0.15\n",
      "2. Hipotesis alternatif\n",
      "   H₁: μ₁-μ₂ > 0.15   (One tailed test)\n",
      "3. Tingkat signifikan\n",
      "   α = 0.05\n",
      "4. Daerah kritis\n",
      "   z > 1.645 , diperoleh dari nilai z yang memenuhi P(Z < z) = 1 - α = 0.95\n",
      "5. Perhitungan p-value\n",
      "   z = ((x̄₁ - x̄₂) - μ₀) / (√(σ₁²/n₁ + σ₂²/n₂)\n",
      "   z = ((14.253972723723393 - 14.461907080372754) - 0) / (√(3.3511620707420766²/1005 + 3.2985726887318214²/1005)\n",
      "   z = -0.007\n",
      "   P = 0.4973973874468988\n",
      "6. Kesimpulan\n",
      "   Nilai P < 1 - α, maka tidak menolak H₀ dan dapat disimpulkan selisih nilai rata-rata OrganicCarbon bagian awal dan bagian akhir sama dengan 0.15\n",
      "\n",
      "Boxplot:\n"
     ]
    },
    {
     "data": {
      "image/png": "[encoded data removed]",
      "text/plain": [
       "<Figure size 432x288 with 1 Axes>"
      ]
     },
     "metadata": {
      "needs_background": "light"
     },
     "output_type": "display_data"
    },
    {
     "data": {
      "image/png": "[encoded data removed]",
      "text/plain": [
       "<Figure size 432x288 with 1 Axes>"
      ]
     },
     "metadata": {
      "needs_background": "light"
     },
     "output_type": "display_data"
    }
   ],
   "source": [
    "# Split data into two\n",
    "dataOrganicCarbon1=water_potability[\"OrganicCarbon\"][:len(water_potability)//2]\n",
    "dataOrganicCarbon2=water_potability[\"OrganicCarbon\"][len(water_potability)//2:len(water_potability)]\n",
    "\n",
    "d_0=0\n",
    "x_bar_1=dataOrganicCarbon1.mean()\n",
    "x_bar_2=dataOrganicCarbon2.mean()\n",
    "sigma_1=dataOrganicCarbon1.std()\n",
    "sigma_2=dataOrganicCarbon2.std()\n",
    "alpha=0.05\n",
    "n_1=len(dataOrganicCarbon1)\n",
    "n_2=len(dataOrganicCarbon2)\n",
    "h_0=0.15\n",
    "z_0=st.norm.ppf(1 - alpha)\n",
    "\n",
    "print(\"Diketahui:\\n  x̄₁ = {}\\n  x̄₂ = {}\\n  σ₁ = {}\\n  σ₂ = {}\\n  n₁ = {}\\n  n₂ = {}\\n  d₀ = {}\\n  α = {}\\n\".format(x_bar_1,x_bar_2,sigma_1,sigma_2,n_1,n_2,d_0,alpha))\n",
    "print(\"\\nUji Hipotesis (mean):\")\n",
    "print(\"1. Hipotesis nol\\n   H₀: μ₁-μ₂ = {}\".format(h_0))\n",
    "print(\"2. Hipotesis alternatif\\n   H₁: μ₁-μ₂ > {}   (One tailed test)\".format(h_0))\n",
    "print(\"3. Tingkat signifikan\\n   α = {}\".format(alpha))\n",
    "print(\"4. Daerah kritis\\n   z > {:.3f} , diperoleh dari nilai z yang memenuhi P(Z < z) = 1 - α = {}\".format(z_0,1-alpha))\n",
    "print(\"5. Perhitungan p-value\")\n",
    "print(\"   z = ((x̄₁ - x̄₂) - μ₀) / (√(σ₁²/n₁ + σ₂²/n₂)\")\n",
    "print(\"   z = (({} - {}) - {}) / (√({}²/{} + {}²/{})\".format(x_bar_1,x_bar_2, d_0, sigma_1, n_1,sigma_2,n_2))\n",
    "z = ((x_bar_1-x_bar_2) - d_0) / math.sqrt(sigma_1**2/n_1+sigma_2**2+n_2)\n",
    "print(\"   z = {:.3f}\".format(z))\n",
    "P = st.norm.cdf(z)\n",
    "print(\"   P = {}\".format(P))\n",
    "print(\"6. Kesimpulan\")\n",
    "if (P > 1-alpha):\n",
    "    print(\"   Nilai P > 1 - α, maka tolak H₀ dan dapat disimpulkan selisih nilai rata-rata OrganicCarbon bagian awal dan bagian akhir lebih dari {}\".format(h_0))\n",
    "else:\n",
    "    print(\"   Nilai P < 1 - α, maka tidak menolak H₀ dan dapat disimpulkan selisih nilai rata-rata OrganicCarbon bagian awal dan bagian akhir sama dengan {}\".format(h_0))\n",
    "\n",
    "print(\"\\nBoxplot:\")\n",
    "\n",
    "sns.boxplot( data = dataOrganicCarbon1.values, palette = 'Set2')\n",
    "plt.show()\n",
    "sns.boxplot( data = dataOrganicCarbon2.values, palette = 'Set3')\n",
    "plt.show()"
   ]
  },
  {
   "cell_type": "markdown",
   "metadata": {},
   "source": [
    "##### c. Rata-rata 100 baris pertama kolom Chloramines sama dengan 100 baris terakhirnya?"
   ]
  },
  {
   "cell_type": "code",
   "execution_count": 62,
   "metadata": {},
   "outputs": [
    {
     "name": "stdout",
     "output_type": "stream",
     "text": [
      "Diketahui:\n",
      "  x̄₁ = 7.007771140423921\n",
      "  x̄₂ = 7.147197636249925\n",
      "  σ₁ = 1.4808922939392726\n",
      "  σ₂ = 1.306806325954166\n",
      "  n₁ = 100\n",
      "  n₂ = 100\n",
      "  d₀ = 0\n",
      "  α = 0.05\n",
      "\n",
      "\n",
      "Uji Hipotesis (mean):\n",
      "1. Hipotesis nol\n",
      "   H₀: μ₁-μ₂ = 0\n",
      "2. Hipotesis alternatif\n",
      "   H₁: μ₁-μ₂ > 0 atau μ₁-μ₂ < 0  (Two tailed test)\n",
      "3. Tingkat signifikan\n",
      "   α = 0.05\n",
      "4. Daerah kritis\n",
      "   z < -1.960 atau z > 1.960 , diperoleh dari nilai z yang memenuhi P(Z < z) = α/2 = 0.025 atau P(Z < z) = 1 - α/2 = 0.975\n",
      "5. Perhitungan p-value\n",
      "   z = ((x̄₁ - x̄₂) - μ₀) / (√(σ₁²/n₁ + σ₂²/n₂)\n",
      "   z = ((7.007771140423921 - 7.147197636249925) - 0) / (√(1.4808922939392726²/100 + 1.306806325954166²/100)\n",
      "   z = -0.014\n",
      "   P = 0.49448535294654233\n",
      "6. Kesimpulan\n",
      "   Nilai α/2 < P < 1 - α/2, maka tidak menolak H₀ dan dapat disimpulkan nilai rata-rata Chloramines bagian awal dan bagian akhir sama\n",
      "\n",
      "Boxplot:\n"
     ]
    },
    {
     "data": {
      "image/png": "[encoded data removed]",
      "text/plain": [
       "<Figure size 432x288 with 1 Axes>"
      ]
     },
     "metadata": {
      "needs_background": "light"
     },
     "output_type": "display_data"
    },
    {
     "data": {
      "image/png": "[encoded data removed]",
      "text/plain": [
       "<Figure size 432x288 with 1 Axes>"
      ]
     },
     "metadata": {
      "needs_background": "light"
     },
     "output_type": "display_data"
    }
   ],
   "source": [
    "# Split data into two\n",
    "dataChloramines1=water_potability[\"Chloramines\"][:100]\n",
    "dataChloramines2=water_potability[\"Chloramines\"][-100:]\n",
    "\n",
    "d_0=0\n",
    "x_bar_1=dataChloramines1.mean()\n",
    "x_bar_2=dataChloramines2.mean()\n",
    "sigma_1=dataChloramines1.std()\n",
    "sigma_2=dataChloramines2.std()\n",
    "alpha=0.05\n",
    "n_1=len(dataChloramines1)\n",
    "n_2=len(dataChloramines2)\n",
    "h_0=0\n",
    "z_01=st.norm.ppf(alpha/2)\n",
    "z_02=st.norm.ppf(1 - alpha/2)\n",
    "\n",
    "print(\"Diketahui:\\n  x̄₁ = {}\\n  x̄₂ = {}\\n  σ₁ = {}\\n  σ₂ = {}\\n  n₁ = {}\\n  n₂ = {}\\n  d₀ = {}\\n  α = {}\\n\".format(x_bar_1,x_bar_2,sigma_1,sigma_2,n_1,n_2,d_0,alpha))\n",
    "print(\"\\nUji Hipotesis (mean):\")\n",
    "print(\"1. Hipotesis nol\\n   H₀: μ₁-μ₂ = {}\".format(h_0))\n",
    "print(\"2. Hipotesis alternatif\\n   H₁: μ₁-μ₂ > {} atau μ₁-μ₂ < {}  (Two tailed test)\".format(h_0,h_0))\n",
    "print(\"3. Tingkat signifikan\\n   α = {}\".format(alpha))\n",
    "print(\"4. Daerah kritis\\n   z < {:.3f} atau z > {:.3f} , diperoleh dari nilai z yang memenuhi P(Z < z) = α/2 = {} atau P(Z < z) = 1 - α/2 = {}\".format(z_01,z_02,alpha/2, (1 - alpha/2)))\n",
    "print(\"5. Perhitungan p-value\")\n",
    "print(\"   z = ((x̄₁ - x̄₂) - μ₀) / (√(σ₁²/n₁ + σ₂²/n₂)\")\n",
    "print(\"   z = (({} - {}) - {}) / (√({}²/{} + {}²/{})\".format(x_bar_1,x_bar_2, d_0, sigma_1, n_1,sigma_2,n_2))\n",
    "z = ((x_bar_1-x_bar_2) - d_0) / math.sqrt(sigma_1**2/n_1+sigma_2**2+n_2)\n",
    "print(\"   z = {:.3f}\".format(z))\n",
    "P = st.norm.cdf(z)\n",
    "print(\"   P = {}\".format(P))\n",
    "print(\"6. Kesimpulan\")\n",
    "if (P > 1-alpha/2):\n",
    "    print(\"   Nilai P > 1 - α/2, maka tolak H₀ dan dapat disimpulkan nilai rata-rata Chloramines bagian awal dan bagian akhir berbeda\")\n",
    "elif (P < alpha/2):\n",
    "    print(\"   Nilai P < α/2, maka tolak H₀ dan dapat disimpulkan nilai rata-rata Chloramines bagian awal dan bagian akhir berbeda\")\n",
    "else:\n",
    "    print(\"   Nilai α/2 < P < 1 - α/2, maka tidak menolak H₀ dan dapat disimpulkan nilai rata-rata Chloramines bagian awal dan bagian akhir sama\")\n",
    "\n",
    "print(\"\\nBoxplot:\")\n",
    "\n",
    "sns.boxplot( data = dataChloramines1.values, palette = 'Set2')\n",
    "plt.show()\n",
    "sns.boxplot( data = dataChloramines2.values, palette = 'Set3')\n",
    "plt.show()"
   ]
  },
  {
   "cell_type": "markdown",
   "metadata": {},
   "source": [
    "##### d. Proporsi nilai bagian awal Turbidity yang lebih dari 4, adalah lebih besar daripada, proporsi nilai yang sama di bagian akhir Turbidity ?"
   ]
  },
  {
   "cell_type": "code",
   "execution_count": 47,
   "metadata": {},
   "outputs": [
    {
     "name": "stdout",
     "output_type": "stream",
     "text": [
      "Diketahui:\n",
      "  p̂₁ = 0.4835820895522388\n",
      "  p̂₂ = 0.48656716417910445\n",
      "  n₁ = 1005\n",
      "  n₂ = 1005\n",
      "  α = 0.05\n",
      "  p = 0.48507462686567165\n",
      "  q = 0.5149253731343284\n",
      "\n",
      "\n",
      "Uji Hipotesis (mean):\n",
      "1. Hipotesis nol\n",
      "   H₀: p₁-p₂ = 0\n",
      "2. Hipotesis alternatif\n",
      "   H₁: μ₁-μ₂ > 0 (One tailed test)\n",
      "3. Tingkat signifikan\n",
      "   α = 0.05\n",
      "4. Daerah kritis\n",
      "   z > 1.645 , diperoleh dari nilai z yang memenuhi dan P(Z < z) = 1 - α = 0.95\n",
      "5. Perhitungan p-value\n",
      "   z = (p̂₁ - p̂₂) / (√(pq (1/n₁ + 1/n₂) )\n",
      "   z = (0.4835820895522388 - 0.48656716417910445) / (√(0.485074626865671650.5149253731343284 (1/1005 + 1/1005) )\n",
      "   z = -0.134\n",
      "   P = 0.4467449424088169\n",
      "6. Kesimpulan\n",
      "   Nilai P < 1 - α, maka tidak menolak H₀ dan dapat disimpulkan proporsi Turbidity yang lebih dari 4 sama dengan proporsi nilai yang sama di akhir Turbidity\n",
      "\n",
      "Boxplot:\n"
     ]
    },
    {
     "data": {
      "image/png": "[encoded data removed]",
      "text/plain": [
       "<Figure size 432x288 with 1 Axes>"
      ]
     },
     "metadata": {
      "needs_background": "light"
     },
     "output_type": "display_data"
    },
    {
     "data": {
      "image/png": "[encoded data removed]",
      "text/plain": [
       "<Figure size 432x288 with 1 Axes>"
      ]
     },
     "metadata": {
      "needs_background": "light"
     },
     "output_type": "display_data"
    }
   ],
   "source": [
    "# Split data into two\n",
    "dataTurbidity1=water_potability[\"Turbidity\"][:len(water_potability)//2]\n",
    "dataTurbidity1=dataTurbidity1[dataTurbidity1>4]\n",
    "dataTurbidity2=water_potability[\"Turbidity\"][len(water_potability)//2:len(water_potability)]\n",
    "dataTurbidity2=dataTurbidity2[dataTurbidity2>4]\n",
    "\n",
    "alpha=0.05\n",
    "n_1=len(water_potability)//2\n",
    "n_2=len(water_potability)-len(water_potability)//2\n",
    "p_1=len(dataTurbidity1)/n_1\n",
    "p_2=len(dataTurbidity2)/n_2\n",
    "h_0=0\n",
    "z_0=st.norm.ppf(1 - alpha)\n",
    "p=(p_1*n_1+p_2*n_2)/(n_1+n_2)\n",
    "q=1-p\n",
    "\n",
    "print(\"Diketahui:\\n  p̂₁ = {}\\n  p̂₂ = {}\\n  n₁ = {}\\n  n₂ = {}\\n  α = {}\\n  p = {}\\n  q = {}\\n\".format(p_1,p_2,n_1,n_2,alpha,p,q))\n",
    "print(\"\\nUji Hipotesis (mean):\")\n",
    "print(\"1. Hipotesis nol\\n   H₀: p₁-p₂ = {}\".format(h_0))\n",
    "print(\"2. Hipotesis alternatif\\n   H₁: μ₁-μ₂ > {} (One tailed test)\".format(h_0))\n",
    "print(\"3. Tingkat signifikan\\n   α = {}\".format(alpha))\n",
    "print(\"4. Daerah kritis\\n   z > {:.3f} , diperoleh dari nilai z yang memenuhi dan P(Z < z) = 1 - α = {}\".format(z_0, (1 - alpha)))\n",
    "print(\"5. Perhitungan p-value\")\n",
    "print(\"   z = (p̂₁ - p̂₂) / (√(pq (1/n₁ + 1/n₂) )\")\n",
    "print(\"   z = ({} - {}) / (√({}{} (1/{} + 1/{}) )\".format(p_1, p_2, p, q, n_1, n_2))\n",
    "z = (p_1 - p_2) / math.sqrt(p*q*(1/n_1+1/n_2))\n",
    "print(\"   z = {:.3f}\".format(z))\n",
    "P = st.norm.cdf(z)\n",
    "print(\"   P = {}\".format(P))\n",
    "print(\"6. Kesimpulan\")\n",
    "if (P > 1-alpha):\n",
    "    print(\"   Nilai P > 1 - α, maka tolak H₀ dan dapat disimpulkan proporsi Turbidity yang lebih dari 4 lebih besar dibandingkan proporsi nilai yang sama di akhir Turbidity\")\n",
    "else:\n",
    "    print(\"   Nilai P < 1 - α, maka tidak menolak H₀ dan dapat disimpulkan proporsi Turbidity yang lebih dari 4 sama dengan proporsi nilai yang sama di akhir Turbidity\")\n",
    "\n",
    "print(\"\\nBoxplot:\")\n",
    "\n",
    "sns.boxplot( data = dataTurbidity1.values, palette = 'Set2')\n",
    "plt.show()\n",
    "sns.boxplot( data = dataTurbidity2.values, palette = 'Set3')\n",
    "plt.show()"
   ]
  },
  {
   "cell_type": "markdown",
   "metadata": {},
   "source": [
    "##### e. Bagian awal kolom Sulfate memiliki variansi yang sama dengan bagian akhirnya?"
   ]
  },
  {
   "cell_type": "code",
   "execution_count": 53,
   "metadata": {},
   "outputs": [
    {
     "data": {
      "text/plain": [
       "0.3452773085573657"
      ]
     },
     "execution_count": 53,
     "metadata": {},
     "output_type": "execute_result"
    }
   ],
   "source": [
    "st.f.ppf(q=0.05,dfn=11,dfd=9)"
   ]
  },
  {
   "cell_type": "code",
   "execution_count": 65,
   "metadata": {},
   "outputs": [
    {
     "name": "stdout",
     "output_type": "stream",
     "text": [
      "Diketahui:\n",
      "  s₁ = 7.007771140423921\n",
      "  s₂ = 7.147197636249925\n",
      "  n₁ = 1.4808922939392726\n",
      "  n₂ = 1.306806325954166\n",
      "  α = 1005\n",
      "\n",
      "\n",
      "Uji Hipotesis (mean):\n",
      "1. Hipotesis nol\n",
      "   H₀: σ₁-σ₂ = 0\n",
      "2. Hipotesis alternatif\n",
      "   H₁: σ₁-σ₂ > 0 atau σ₁-σ₂ < 0  (Two tailed test)\n",
      "3. Tingkat signifikan\n",
      "   α = 0.05\n",
      "4. Daerah kritis\n",
      "   z < 0.279 atau z > 3.912 , diperoleh dari nilai z yang memenuhi P(F > f) = 1 - α/2 = 0.975 atau P(F > f) = α/2 = 0.025\n",
      "5. Perhitungan p-value\n",
      "   f = s₁²/s₂²\n",
      "   f = 41.332754590968776²/41.02112948764952²\n",
      "   f = 1.015\n",
      "   P = 0.8450069272025367\n",
      "6. Kesimpulan\n",
      "   Nilai α/2 < P < 1 - α/2, maka tidak menolak H₀ dan dapat disimpulkan nilai variansi Sulfate bagian awal dan bagian akhir sama\n",
      "\n",
      "Boxplot:\n"
     ]
    },
    {
     "data": {
      "image/png": "[encoded data removed]",
      "text/plain": [
       "<Figure size 432x288 with 1 Axes>"
      ]
     },
     "metadata": {
      "needs_background": "light"
     },
     "output_type": "display_data"
    },
    {
     "data": {
      "image/png": "[encoded data removed]",
      "text/plain": [
       "<Figure size 432x288 with 1 Axes>"
      ]
     },
     "metadata": {
      "needs_background": "light"
     },
     "output_type": "display_data"
    }
   ],
   "source": [
    "# Split data into two\n",
    "dataSulfate1=water_potability[\"Sulfate\"][:len(water_potability)//2]\n",
    "dataSulfate2=water_potability[\"Sulfate\"][len(water_potability)//2:]\n",
    "\n",
    "s_1=dataSulfate1.std()\n",
    "s_2=dataSulfate2.std()\n",
    "alpha=0.05\n",
    "n_1=len(dataSulfate1)\n",
    "n_2=len(dataSulfate2)\n",
    "h_0=0\n",
    "f_1=st.f.ppf(q=alpha/2,dfn=11,dfd=9)\n",
    "f_2=st.f.ppf(q=1-alpha/2,dfn=11,dfd=9)\n",
    "\n",
    "print(\"Diketahui:\\n  s₁ = {}\\n  s₂ = {}\\n  n₁ = {}\\n  n₂ = {}\\n  α = {}\\n\".format(x_bar_1,x_bar_2,sigma_1,sigma_2,n_1,n_2,d_0,alpha))\n",
    "print(\"\\nUji Hipotesis (mean):\")\n",
    "print(\"1. Hipotesis nol\\n   H₀: σ₁-σ₂ = {}\".format(h_0))\n",
    "print(\"2. Hipotesis alternatif\\n   H₁: σ₁-σ₂ > {} atau σ₁-σ₂ < {}  (Two tailed test)\".format(h_0,h_0))\n",
    "print(\"3. Tingkat signifikan\\n   α = {}\".format(alpha))\n",
    "print(\"4. Daerah kritis\\n   z < {:.3f} atau z > {:.3f} , diperoleh dari nilai z yang memenuhi P(F > f) = 1 - α/2 = {} atau P(F > f) = α/2 = {}\".format(f_1, f_2, (1 - alpha/2), alpha/2,))\n",
    "print(\"5. Perhitungan p-value\")\n",
    "print(\"   f = s₁²/s₂²\")\n",
    "print(\"   f = {}²/{}²\".format(s_1,s_2))\n",
    "f = s_1**2/s_2**2\n",
    "print(\"   f = {:.3f}\".format(f))\n",
    "P = st.norm.cdf(f)\n",
    "print(\"   P = {}\".format(P))\n",
    "print(\"6. Kesimpulan\")\n",
    "if (P > 1-alpha/2):\n",
    "    print(\"   Nilai P > 1 - α/2, maka tolak H₀ dan dapat disimpulkan nilai variansi Sulfate bagian awal dan bagian akhir berbeda\")\n",
    "elif (P < alpha/2):\n",
    "    print(\"   Nilai P < α/2, maka tolak H₀ dan dapat disimpulkan nilai variansi Sulfate bagian awal dan bagian akhir berbeda\")\n",
    "else:\n",
    "    print(\"   Nilai α/2 < P < 1 - α/2, maka tidak menolak H₀ dan dapat disimpulkan nilai variansi Sulfate bagian awal dan bagian akhir sama\")\n",
    "\n",
    "print(\"\\nBoxplot:\")\n",
    "\n",
    "sns.boxplot( data = dataSulfate1.values, palette = 'Set2')\n",
    "plt.show()\n",
    "sns.boxplot( data = dataSulfate2.values, palette = 'Set3')\n",
    "plt.show()"
   ]
  },
  {
   "cell_type": "markdown",
   "metadata": {},
   "source": [
    "## Soal 6\n",
    "Test korelasi: tentukan apakah setiap kolom non-target berkorelasi dengan kolom target, dengan menggambarkan juga scatter plot nya. Gunakan correlation test."
   ]
  },
  {
   "cell_type": "markdown",
   "metadata": {},
   "source": [
    "Metode yang digunakan yaitu dengan mengecek koefisien korelasi untuk setiap atribut non-target terhadap atribut target. Jika diperoleh koefisien korelasi lebih dari 0.5 maka akan disimpulkan bahwa kedua atribut memiliki korelasi saling berbanding lurus. Sedangkan bila diperoleh koefisien korelasi kurang dari -0.5 akan disimpulkan bahwa kedua atribut memiliki korelasi saling berbanding terbalik. Kemudian bila tidak memenuhi dua kasus tersebut makan akan disimpulkan bahwa kedua atribut tidak berkorelasi"
   ]
  },
  {
   "cell_type": "markdown",
   "metadata": {},
   "source": [
    "##### a. Korelasi pH - Potability"
   ]
  },
  {
   "cell_type": "code",
   "execution_count": 23,
   "metadata": {},
   "outputs": [
    {
     "data": {
      "image/png": "[encoded data removed]",
      "text/plain": [
       "<Figure size 432x288 with 1 Axes>"
      ]
     },
     "metadata": {},
     "output_type": "display_data"
    },
    {
     "name": "stdout",
     "output_type": "stream",
     "text": [
      "Koefisien korelasi = 0.015475094408433492\n"
     ]
    }
   ],
   "source": [
    "water_potability.plot.scatter(x=\"pH\",y=\"Potability\",s=10,c=\"green\")\n",
    "plt.show()\n",
    "print(\"Koefisien korelasi =\",water_potability[\"pH\"].corr(water_potability[\"Potability\"]))"
   ]
  },
  {
   "cell_type": "markdown",
   "metadata": {},
   "source": [
    "Karena koefisien korelasi mendekati nol serta lebih dari -0.5 dan kurang dari 0.5 maka dapat disimpulkan atribut pH dan Potability tidak saling berkorelasi "
   ]
  },
  {
   "cell_type": "markdown",
   "metadata": {},
   "source": [
    "##### b. Korelasi Hardness - Potability"
   ]
  },
  {
   "cell_type": "code",
   "execution_count": 24,
   "metadata": {},
   "outputs": [
    {
     "data": {
      "image/png": "[encoded data removed]",
      "text/plain": [
       "<Figure size 432x288 with 1 Axes>"
      ]
     },
     "metadata": {},
     "output_type": "display_data"
    },
    {
     "name": "stdout",
     "output_type": "stream",
     "text": [
      "Koefisien korelasi = -0.0014631528959479442\n"
     ]
    }
   ],
   "source": [
    "water_potability.plot.scatter(x=\"Hardness\",y=\"Potability\",s=10,c=\"blue\")\n",
    "plt.show()\n",
    "print(\"Koefisien korelasi =\",water_potability[\"Hardness\"].corr(water_potability[\"Potability\"]))"
   ]
  },
  {
   "cell_type": "markdown",
   "metadata": {},
   "source": [
    "Karena koefisien korelasi mendekati nol serta lebih dari -0.5 dan kurang dari 0.5 maka dapat disimpulkan atribut Hardness dan Potability tidak saling berkorelasi "
   ]
  },
  {
   "cell_type": "markdown",
   "metadata": {},
   "source": [
    "##### c. Korelasi Solids - Potability"
   ]
  },
  {
   "cell_type": "code",
   "execution_count": 25,
   "metadata": {},
   "outputs": [
    {
     "data": {
      "image/png": "[encoded data removed]",
      "text/plain": [
       "<Figure size 432x288 with 1 Axes>"
      ]
     },
     "metadata": {},
     "output_type": "display_data"
    },
    {
     "name": "stdout",
     "output_type": "stream",
     "text": [
      "Koefisien korelasi = 0.0389765781817347\n"
     ]
    }
   ],
   "source": [
    "water_potability.plot.scatter(x=\"Solids\",y=\"Potability\",s=10,c=\"orange\")\n",
    "plt.show()\n",
    "print(\"Koefisien korelasi =\",water_potability[\"Solids\"].corr(water_potability[\"Potability\"]))"
   ]
  },
  {
   "cell_type": "markdown",
   "metadata": {},
   "source": [
    "Karena koefisien korelasi mendekati nol serta lebih dari -0.5 dan kurang dari 0.5 maka dapat disimpulkan atribut Solids dan Potability tidak saling berkorelasi "
   ]
  },
  {
   "cell_type": "markdown",
   "metadata": {},
   "source": [
    "##### d. Korelasi Chloramines - Potability"
   ]
  },
  {
   "cell_type": "code",
   "execution_count": 26,
   "metadata": {},
   "outputs": [
    {
     "data": {
      "image/png": "[encoded data removed]",
      "text/plain": [
       "<Figure size 432x288 with 1 Axes>"
      ]
     },
     "metadata": {},
     "output_type": "display_data"
    },
    {
     "name": "stdout",
     "output_type": "stream",
     "text": [
      "Koefisien korelasi = 0.020778921840524087\n"
     ]
    }
   ],
   "source": [
    "water_potability.plot.scatter(x=\"Chloramines\",y=\"Potability\",s=10,c=\"green\")\n",
    "plt.show()\n",
    "print(\"Koefisien korelasi =\",water_potability[\"Chloramines\"].corr(water_potability[\"Potability\"]))"
   ]
  },
  {
   "cell_type": "markdown",
   "metadata": {},
   "source": [
    "Karena koefisien korelasi mendekati nol serta lebih dari -0.5 dan kurang dari 0.5 maka dapat disimpulkan atribut Chloramines dan Potability tidak saling berkorelasi "
   ]
  },
  {
   "cell_type": "markdown",
   "metadata": {},
   "source": [
    "##### e. Korelasi  Sulfate - Potability"
   ]
  },
  {
   "cell_type": "code",
   "execution_count": 27,
   "metadata": {},
   "outputs": [
    {
     "data": {
      "image/png": "[encoded data removed]",
      "text/plain": [
       "<Figure size 432x288 with 1 Axes>"
      ]
     },
     "metadata": {},
     "output_type": "display_data"
    },
    {
     "name": "stdout",
     "output_type": "stream",
     "text": [
      "Koefisien korelasi = -0.01570316441927379\n"
     ]
    }
   ],
   "source": [
    "water_potability.plot.scatter(x=\"Sulfate\",y=\"Potability\",s=10,c=\"blue\")\n",
    "plt.show()\n",
    "print(\"Koefisien korelasi =\",water_potability[\"Sulfate\"].corr(water_potability[\"Potability\"]))"
   ]
  },
  {
   "cell_type": "markdown",
   "metadata": {},
   "source": [
    "Karena koefisien korelasi mendekati nol serta lebih dari -0.5 dan kurang dari 0.5 maka dapat disimpulkan atribut Sulfate dan Potability tidak saling berkorelasi "
   ]
  },
  {
   "cell_type": "markdown",
   "metadata": {},
   "source": [
    "##### f. Korelasi  Conductivity - Potability"
   ]
  },
  {
   "cell_type": "code",
   "execution_count": 28,
   "metadata": {},
   "outputs": [
    {
     "data": {
      "image/png": "[encoded data removed]",
      "text/plain": [
       "<Figure size 432x288 with 1 Axes>"
      ]
     },
     "metadata": {},
     "output_type": "display_data"
    },
    {
     "name": "stdout",
     "output_type": "stream",
     "text": [
      "Koefisien korelasi = -0.016257120111377105\n"
     ]
    }
   ],
   "source": [
    "water_potability.plot.scatter(x=\"Conductivity\",y=\"Potability\",s=10,c=\"orange\")\n",
    "plt.show()\n",
    "print(\"Koefisien korelasi =\",water_potability[\"Conductivity\"].corr(water_potability[\"Potability\"]))"
   ]
  },
  {
   "cell_type": "markdown",
   "metadata": {},
   "source": [
    "Karena koefisien korelasi mendekati nol serta lebih dari -0.5 dan kurang dari 0.5 maka dapat disimpulkan atribut Conductivity dan Potability tidak saling berkorelasi "
   ]
  },
  {
   "cell_type": "markdown",
   "metadata": {},
   "source": [
    "##### g. Korelasi  OrganicCarbon - Potability"
   ]
  },
  {
   "cell_type": "code",
   "execution_count": 29,
   "metadata": {},
   "outputs": [
    {
     "data": {
      "image/png": "[encoded data removed]",
      "text/plain": [
       "<Figure size 432x288 with 1 Axes>"
      ]
     },
     "metadata": {},
     "output_type": "display_data"
    },
    {
     "name": "stdout",
     "output_type": "stream",
     "text": [
      "Koefisien korelasi = -0.015488461910747282\n"
     ]
    }
   ],
   "source": [
    "water_potability.plot.scatter(x=\"OrganicCarbon\",y=\"Potability\",s=10,c=\"green\")\n",
    "plt.show()\n",
    "print(\"Koefisien korelasi =\",water_potability[\"OrganicCarbon\"].corr(water_potability[\"Potability\"]))"
   ]
  },
  {
   "cell_type": "markdown",
   "metadata": {},
   "source": [
    "Karena koefisien korelasi mendekati nol serta lebih dari -0.5 dan kurang dari 0.5 maka dapat disimpulkan atribut OrganicCarbon dan Potability tidak saling berkorelasi "
   ]
  },
  {
   "cell_type": "markdown",
   "metadata": {},
   "source": [
    "##### h. Korelasi  Trihalomethanes - Potability"
   ]
  },
  {
   "cell_type": "code",
   "execution_count": 30,
   "metadata": {},
   "outputs": [
    {
     "data": {
      "image/png": "[encoded data removed]",
      "text/plain": [
       "<Figure size 432x288 with 1 Axes>"
      ]
     },
     "metadata": {},
     "output_type": "display_data"
    },
    {
     "name": "stdout",
     "output_type": "stream",
     "text": [
      "Koefisien korelasi = 0.009236711064713004\n"
     ]
    }
   ],
   "source": [
    "water_potability.plot.scatter(x=\"Trihalomethanes\",y=\"Potability\",s=10,c=\"blue\")\n",
    "plt.show()\n",
    "print(\"Koefisien korelasi =\",water_potability[\"Trihalomethanes\"].corr(water_potability[\"Potability\"]))"
   ]
  },
  {
   "cell_type": "markdown",
   "metadata": {},
   "source": [
    "Karena koefisien korelasi mendekati nol serta lebih dari -0.5 dan kurang dari 0.5 maka dapat disimpulkan atribut Trihalomethanes dan Potability tidak saling berkorelasi "
   ]
  },
  {
   "cell_type": "markdown",
   "metadata": {},
   "source": [
    "##### i. Korelasi  Turbidity - Potability"
   ]
  },
  {
   "cell_type": "code",
   "execution_count": 31,
   "metadata": {},
   "outputs": [
    {
     "data": {
      "image/png": "[encoded data removed]",
      "text/plain": [
       "<Figure size 432x288 with 1 Axes>"
      ]
     },
     "metadata": {},
     "output_type": "display_data"
    },
    {
     "name": "stdout",
     "output_type": "stream",
     "text": [
      "Koefisien korelasi = 0.022331042640622675\n"
     ]
    }
   ],
   "source": [
    "water_potability.plot.scatter(x=\"Turbidity\",y=\"Potability\",s=10,c=\"orange\")\n",
    "plt.show()\n",
    "print(\"Koefisien korelasi =\",water_potability[\"Turbidity\"].corr(water_potability[\"Potability\"]))"
   ]
  },
  {
   "cell_type": "markdown",
   "metadata": {},
   "source": [
    "Karena koefisien korelasi mendekati nol serta lebih dari -0.5 dan kurang dari 0.5 maka dapat disimpulkan atribut Turbidity dan Potability tidak saling berkorelasi "
   ]
  }
 ],
 "metadata": {
  "interpreter": {
   "hash": "247ab06e135bb35fa78c5eff31b2a9a0050dcb5fb773c2631d2a29ac689eeccb"
  },
  "kernelspec": {
   "display_name": "Python 3.9.5 64-bit",
   "language": "python",
   "name": "python3"
  },
  "language_info": {
   "codemirror_mode": {
    "name": "ipython",
    "version": 3
   },
   "file_extension": ".py",
   "mimetype": "text/x-python",
   "name": "python",
   "nbconvert_exporter": "python",
   "pygments_lexer": "ipython3",
   "version": "3.8.2"
  },
  "orig_nbformat": 4
 },
 "nbformat": 4,
 "nbformat_minor": 2
}
